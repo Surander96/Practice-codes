{
 "cells": [
  {
   "cell_type": "code",
   "execution_count": 1,
   "id": "8e899120",
   "metadata": {},
   "outputs": [],
   "source": [
    "##Import Data and Required Packages\n",
    "import pandas as pd\n",
    "import numpy as np\n",
    "import xgboost \n",
    "from sklearn.model_selection import train_test_split\n",
    "from sklearn.model_selection import GridSearchCV\n",
    "from sklearn.metrics import roc_auc_score"
   ]
  },
  {
   "cell_type": "code",
   "execution_count": 2,
   "id": "3a60a0ee",
   "metadata": {},
   "outputs": [],
   "source": [
    "df_train = pd.read_csv(\"C:/Users/HP/Documents/backups/boost/train.csv\")"
   ]
  },
  {
   "cell_type": "code",
   "execution_count": 3,
   "id": "e83a359e",
   "metadata": {
    "scrolled": true
   },
   "outputs": [
    {
     "data": {
      "text/html": [
       "<div>\n",
       "<style scoped>\n",
       "    .dataframe tbody tr th:only-of-type {\n",
       "        vertical-align: middle;\n",
       "    }\n",
       "\n",
       "    .dataframe tbody tr th {\n",
       "        vertical-align: top;\n",
       "    }\n",
       "\n",
       "    .dataframe thead th {\n",
       "        text-align: right;\n",
       "    }\n",
       "</style>\n",
       "<table border=\"1\" class=\"dataframe\">\n",
       "  <thead>\n",
       "    <tr style=\"text-align: right;\">\n",
       "      <th></th>\n",
       "      <th>ID_code</th>\n",
       "      <th>target</th>\n",
       "      <th>var_0</th>\n",
       "      <th>var_1</th>\n",
       "      <th>var_2</th>\n",
       "      <th>var_3</th>\n",
       "      <th>var_4</th>\n",
       "      <th>var_5</th>\n",
       "      <th>var_6</th>\n",
       "      <th>var_7</th>\n",
       "      <th>...</th>\n",
       "      <th>var_190</th>\n",
       "      <th>var_191</th>\n",
       "      <th>var_192</th>\n",
       "      <th>var_193</th>\n",
       "      <th>var_194</th>\n",
       "      <th>var_195</th>\n",
       "      <th>var_196</th>\n",
       "      <th>var_197</th>\n",
       "      <th>var_198</th>\n",
       "      <th>var_199</th>\n",
       "    </tr>\n",
       "  </thead>\n",
       "  <tbody>\n",
       "    <tr>\n",
       "      <th>0</th>\n",
       "      <td>train_0</td>\n",
       "      <td>0</td>\n",
       "      <td>8.9255</td>\n",
       "      <td>-6.7863</td>\n",
       "      <td>11.9081</td>\n",
       "      <td>5.0930</td>\n",
       "      <td>11.4607</td>\n",
       "      <td>-9.2834</td>\n",
       "      <td>5.1187</td>\n",
       "      <td>18.6266</td>\n",
       "      <td>...</td>\n",
       "      <td>4.4354</td>\n",
       "      <td>3.9642</td>\n",
       "      <td>3.1364</td>\n",
       "      <td>1.6910</td>\n",
       "      <td>18.5227</td>\n",
       "      <td>-2.3978</td>\n",
       "      <td>7.8784</td>\n",
       "      <td>8.5635</td>\n",
       "      <td>12.7803</td>\n",
       "      <td>-1.0914</td>\n",
       "    </tr>\n",
       "    <tr>\n",
       "      <th>1</th>\n",
       "      <td>train_1</td>\n",
       "      <td>0</td>\n",
       "      <td>11.5006</td>\n",
       "      <td>-4.1473</td>\n",
       "      <td>13.8588</td>\n",
       "      <td>5.3890</td>\n",
       "      <td>12.3622</td>\n",
       "      <td>7.0433</td>\n",
       "      <td>5.6208</td>\n",
       "      <td>16.5338</td>\n",
       "      <td>...</td>\n",
       "      <td>7.6421</td>\n",
       "      <td>7.7214</td>\n",
       "      <td>2.5837</td>\n",
       "      <td>10.9516</td>\n",
       "      <td>15.4305</td>\n",
       "      <td>2.0339</td>\n",
       "      <td>8.1267</td>\n",
       "      <td>8.7889</td>\n",
       "      <td>18.3560</td>\n",
       "      <td>1.9518</td>\n",
       "    </tr>\n",
       "    <tr>\n",
       "      <th>2</th>\n",
       "      <td>train_2</td>\n",
       "      <td>0</td>\n",
       "      <td>8.6093</td>\n",
       "      <td>-2.7457</td>\n",
       "      <td>12.0805</td>\n",
       "      <td>7.8928</td>\n",
       "      <td>10.5825</td>\n",
       "      <td>-9.0837</td>\n",
       "      <td>6.9427</td>\n",
       "      <td>14.6155</td>\n",
       "      <td>...</td>\n",
       "      <td>2.9057</td>\n",
       "      <td>9.7905</td>\n",
       "      <td>1.6704</td>\n",
       "      <td>1.6858</td>\n",
       "      <td>21.6042</td>\n",
       "      <td>3.1417</td>\n",
       "      <td>-6.5213</td>\n",
       "      <td>8.2675</td>\n",
       "      <td>14.7222</td>\n",
       "      <td>0.3965</td>\n",
       "    </tr>\n",
       "    <tr>\n",
       "      <th>3</th>\n",
       "      <td>train_3</td>\n",
       "      <td>0</td>\n",
       "      <td>11.0604</td>\n",
       "      <td>-2.1518</td>\n",
       "      <td>8.9522</td>\n",
       "      <td>7.1957</td>\n",
       "      <td>12.5846</td>\n",
       "      <td>-1.8361</td>\n",
       "      <td>5.8428</td>\n",
       "      <td>14.9250</td>\n",
       "      <td>...</td>\n",
       "      <td>4.4666</td>\n",
       "      <td>4.7433</td>\n",
       "      <td>0.7178</td>\n",
       "      <td>1.4214</td>\n",
       "      <td>23.0347</td>\n",
       "      <td>-1.2706</td>\n",
       "      <td>-2.9275</td>\n",
       "      <td>10.2922</td>\n",
       "      <td>17.9697</td>\n",
       "      <td>-8.9996</td>\n",
       "    </tr>\n",
       "    <tr>\n",
       "      <th>4</th>\n",
       "      <td>train_4</td>\n",
       "      <td>0</td>\n",
       "      <td>9.8369</td>\n",
       "      <td>-1.4834</td>\n",
       "      <td>12.8746</td>\n",
       "      <td>6.6375</td>\n",
       "      <td>12.2772</td>\n",
       "      <td>2.4486</td>\n",
       "      <td>5.9405</td>\n",
       "      <td>19.2514</td>\n",
       "      <td>...</td>\n",
       "      <td>-1.4905</td>\n",
       "      <td>9.5214</td>\n",
       "      <td>-0.1508</td>\n",
       "      <td>9.1942</td>\n",
       "      <td>13.2876</td>\n",
       "      <td>-1.5121</td>\n",
       "      <td>3.9267</td>\n",
       "      <td>9.5031</td>\n",
       "      <td>17.9974</td>\n",
       "      <td>-8.8104</td>\n",
       "    </tr>\n",
       "    <tr>\n",
       "      <th>...</th>\n",
       "      <td>...</td>\n",
       "      <td>...</td>\n",
       "      <td>...</td>\n",
       "      <td>...</td>\n",
       "      <td>...</td>\n",
       "      <td>...</td>\n",
       "      <td>...</td>\n",
       "      <td>...</td>\n",
       "      <td>...</td>\n",
       "      <td>...</td>\n",
       "      <td>...</td>\n",
       "      <td>...</td>\n",
       "      <td>...</td>\n",
       "      <td>...</td>\n",
       "      <td>...</td>\n",
       "      <td>...</td>\n",
       "      <td>...</td>\n",
       "      <td>...</td>\n",
       "      <td>...</td>\n",
       "      <td>...</td>\n",
       "      <td>...</td>\n",
       "    </tr>\n",
       "    <tr>\n",
       "      <th>199995</th>\n",
       "      <td>train_199995</td>\n",
       "      <td>0</td>\n",
       "      <td>11.4880</td>\n",
       "      <td>-0.4956</td>\n",
       "      <td>8.2622</td>\n",
       "      <td>3.5142</td>\n",
       "      <td>10.3404</td>\n",
       "      <td>11.6081</td>\n",
       "      <td>5.6709</td>\n",
       "      <td>15.1516</td>\n",
       "      <td>...</td>\n",
       "      <td>6.1415</td>\n",
       "      <td>13.2305</td>\n",
       "      <td>3.9901</td>\n",
       "      <td>0.9388</td>\n",
       "      <td>18.0249</td>\n",
       "      <td>-1.7939</td>\n",
       "      <td>2.1661</td>\n",
       "      <td>8.5326</td>\n",
       "      <td>16.6660</td>\n",
       "      <td>-17.8661</td>\n",
       "    </tr>\n",
       "    <tr>\n",
       "      <th>199996</th>\n",
       "      <td>train_199996</td>\n",
       "      <td>0</td>\n",
       "      <td>4.9149</td>\n",
       "      <td>-2.4484</td>\n",
       "      <td>16.7052</td>\n",
       "      <td>6.6345</td>\n",
       "      <td>8.3096</td>\n",
       "      <td>-10.5628</td>\n",
       "      <td>5.8802</td>\n",
       "      <td>21.5940</td>\n",
       "      <td>...</td>\n",
       "      <td>4.9611</td>\n",
       "      <td>4.6549</td>\n",
       "      <td>0.6998</td>\n",
       "      <td>1.8341</td>\n",
       "      <td>22.2717</td>\n",
       "      <td>1.7337</td>\n",
       "      <td>-2.1651</td>\n",
       "      <td>6.7419</td>\n",
       "      <td>15.9054</td>\n",
       "      <td>0.3388</td>\n",
       "    </tr>\n",
       "    <tr>\n",
       "      <th>199997</th>\n",
       "      <td>train_199997</td>\n",
       "      <td>0</td>\n",
       "      <td>11.2232</td>\n",
       "      <td>-5.0518</td>\n",
       "      <td>10.5127</td>\n",
       "      <td>5.6456</td>\n",
       "      <td>9.3410</td>\n",
       "      <td>-5.4086</td>\n",
       "      <td>4.5555</td>\n",
       "      <td>21.5571</td>\n",
       "      <td>...</td>\n",
       "      <td>4.0651</td>\n",
       "      <td>5.4414</td>\n",
       "      <td>3.1032</td>\n",
       "      <td>4.8793</td>\n",
       "      <td>23.5311</td>\n",
       "      <td>-1.5736</td>\n",
       "      <td>1.2832</td>\n",
       "      <td>8.7155</td>\n",
       "      <td>13.8329</td>\n",
       "      <td>4.1995</td>\n",
       "    </tr>\n",
       "    <tr>\n",
       "      <th>199998</th>\n",
       "      <td>train_199998</td>\n",
       "      <td>0</td>\n",
       "      <td>9.7148</td>\n",
       "      <td>-8.6098</td>\n",
       "      <td>13.6104</td>\n",
       "      <td>5.7930</td>\n",
       "      <td>12.5173</td>\n",
       "      <td>0.5339</td>\n",
       "      <td>6.0479</td>\n",
       "      <td>17.0152</td>\n",
       "      <td>...</td>\n",
       "      <td>2.6840</td>\n",
       "      <td>8.6587</td>\n",
       "      <td>2.7337</td>\n",
       "      <td>11.1178</td>\n",
       "      <td>20.4158</td>\n",
       "      <td>-0.0786</td>\n",
       "      <td>6.7980</td>\n",
       "      <td>10.0342</td>\n",
       "      <td>15.5289</td>\n",
       "      <td>-13.9001</td>\n",
       "    </tr>\n",
       "    <tr>\n",
       "      <th>199999</th>\n",
       "      <td>train_199999</td>\n",
       "      <td>0</td>\n",
       "      <td>10.8762</td>\n",
       "      <td>-5.7105</td>\n",
       "      <td>12.1183</td>\n",
       "      <td>8.0328</td>\n",
       "      <td>11.5577</td>\n",
       "      <td>0.3488</td>\n",
       "      <td>5.2839</td>\n",
       "      <td>15.2058</td>\n",
       "      <td>...</td>\n",
       "      <td>8.9842</td>\n",
       "      <td>1.6893</td>\n",
       "      <td>0.1276</td>\n",
       "      <td>0.3766</td>\n",
       "      <td>15.2101</td>\n",
       "      <td>-2.4907</td>\n",
       "      <td>-2.2342</td>\n",
       "      <td>8.1857</td>\n",
       "      <td>12.1284</td>\n",
       "      <td>0.1385</td>\n",
       "    </tr>\n",
       "  </tbody>\n",
       "</table>\n",
       "<p>200000 rows × 202 columns</p>\n",
       "</div>"
      ],
      "text/plain": [
       "             ID_code  target    var_0   var_1    var_2   var_3    var_4  \\\n",
       "0            train_0       0   8.9255 -6.7863  11.9081  5.0930  11.4607   \n",
       "1            train_1       0  11.5006 -4.1473  13.8588  5.3890  12.3622   \n",
       "2            train_2       0   8.6093 -2.7457  12.0805  7.8928  10.5825   \n",
       "3            train_3       0  11.0604 -2.1518   8.9522  7.1957  12.5846   \n",
       "4            train_4       0   9.8369 -1.4834  12.8746  6.6375  12.2772   \n",
       "...              ...     ...      ...     ...      ...     ...      ...   \n",
       "199995  train_199995       0  11.4880 -0.4956   8.2622  3.5142  10.3404   \n",
       "199996  train_199996       0   4.9149 -2.4484  16.7052  6.6345   8.3096   \n",
       "199997  train_199997       0  11.2232 -5.0518  10.5127  5.6456   9.3410   \n",
       "199998  train_199998       0   9.7148 -8.6098  13.6104  5.7930  12.5173   \n",
       "199999  train_199999       0  10.8762 -5.7105  12.1183  8.0328  11.5577   \n",
       "\n",
       "          var_5   var_6    var_7  ...  var_190  var_191  var_192  var_193  \\\n",
       "0       -9.2834  5.1187  18.6266  ...   4.4354   3.9642   3.1364   1.6910   \n",
       "1        7.0433  5.6208  16.5338  ...   7.6421   7.7214   2.5837  10.9516   \n",
       "2       -9.0837  6.9427  14.6155  ...   2.9057   9.7905   1.6704   1.6858   \n",
       "3       -1.8361  5.8428  14.9250  ...   4.4666   4.7433   0.7178   1.4214   \n",
       "4        2.4486  5.9405  19.2514  ...  -1.4905   9.5214  -0.1508   9.1942   \n",
       "...         ...     ...      ...  ...      ...      ...      ...      ...   \n",
       "199995  11.6081  5.6709  15.1516  ...   6.1415  13.2305   3.9901   0.9388   \n",
       "199996 -10.5628  5.8802  21.5940  ...   4.9611   4.6549   0.6998   1.8341   \n",
       "199997  -5.4086  4.5555  21.5571  ...   4.0651   5.4414   3.1032   4.8793   \n",
       "199998   0.5339  6.0479  17.0152  ...   2.6840   8.6587   2.7337  11.1178   \n",
       "199999   0.3488  5.2839  15.2058  ...   8.9842   1.6893   0.1276   0.3766   \n",
       "\n",
       "        var_194  var_195  var_196  var_197  var_198  var_199  \n",
       "0       18.5227  -2.3978   7.8784   8.5635  12.7803  -1.0914  \n",
       "1       15.4305   2.0339   8.1267   8.7889  18.3560   1.9518  \n",
       "2       21.6042   3.1417  -6.5213   8.2675  14.7222   0.3965  \n",
       "3       23.0347  -1.2706  -2.9275  10.2922  17.9697  -8.9996  \n",
       "4       13.2876  -1.5121   3.9267   9.5031  17.9974  -8.8104  \n",
       "...         ...      ...      ...      ...      ...      ...  \n",
       "199995  18.0249  -1.7939   2.1661   8.5326  16.6660 -17.8661  \n",
       "199996  22.2717   1.7337  -2.1651   6.7419  15.9054   0.3388  \n",
       "199997  23.5311  -1.5736   1.2832   8.7155  13.8329   4.1995  \n",
       "199998  20.4158  -0.0786   6.7980  10.0342  15.5289 -13.9001  \n",
       "199999  15.2101  -2.4907  -2.2342   8.1857  12.1284   0.1385  \n",
       "\n",
       "[200000 rows x 202 columns]"
      ]
     },
     "execution_count": 3,
     "metadata": {},
     "output_type": "execute_result"
    }
   ],
   "source": [
    "df_train"
   ]
  },
  {
   "cell_type": "code",
   "execution_count": 4,
   "id": "7c11253f",
   "metadata": {},
   "outputs": [],
   "source": [
    "var_col=[c for c in df_train if c not in ['ID_code','target']]"
   ]
  },
  {
   "cell_type": "code",
   "execution_count": 5,
   "id": "95430055",
   "metadata": {},
   "outputs": [],
   "source": [
    "X = df_train.loc[:, var_col]\n",
    "y = df_train.loc[:, 'target']"
   ]
  },
  {
   "cell_type": "code",
   "execution_count": 6,
   "id": "70280f40",
   "metadata": {},
   "outputs": [
    {
     "data": {
      "text/plain": [
       "((160000, 200), (40000, 200), (160000,), (40000,))"
      ]
     },
     "execution_count": 6,
     "metadata": {},
     "output_type": "execute_result"
    }
   ],
   "source": [
    "X_train,X_val,y_train,y_val=train_test_split(X,y,test_size=0.2)\n",
    "X_train.shape, X_val.shape, y_train.shape, y_val.shape"
   ]
  },
  {
   "cell_type": "code",
   "execution_count": 7,
   "id": "51bfaa30",
   "metadata": {},
   "outputs": [
    {
     "data": {
      "text/plain": [
       "{'objective': 'binary:logistic',\n",
       " 'use_label_encoder': None,\n",
       " 'base_score': None,\n",
       " 'booster': None,\n",
       " 'callbacks': None,\n",
       " 'colsample_bylevel': None,\n",
       " 'colsample_bynode': None,\n",
       " 'colsample_bytree': None,\n",
       " 'early_stopping_rounds': None,\n",
       " 'enable_categorical': False,\n",
       " 'eval_metric': None,\n",
       " 'feature_types': None,\n",
       " 'gamma': None,\n",
       " 'gpu_id': None,\n",
       " 'grow_policy': None,\n",
       " 'importance_type': None,\n",
       " 'interaction_constraints': None,\n",
       " 'learning_rate': None,\n",
       " 'max_bin': None,\n",
       " 'max_cat_threshold': None,\n",
       " 'max_cat_to_onehot': None,\n",
       " 'max_delta_step': None,\n",
       " 'max_depth': None,\n",
       " 'max_leaves': None,\n",
       " 'min_child_weight': None,\n",
       " 'missing': nan,\n",
       " 'monotone_constraints': None,\n",
       " 'n_estimators': 100,\n",
       " 'n_jobs': None,\n",
       " 'num_parallel_tree': None,\n",
       " 'predictor': None,\n",
       " 'random_state': None,\n",
       " 'reg_alpha': None,\n",
       " 'reg_lambda': None,\n",
       " 'sampling_method': None,\n",
       " 'scale_pos_weight': None,\n",
       " 'subsample': None,\n",
       " 'tree_method': None,\n",
       " 'validate_parameters': None,\n",
       " 'verbosity': None}"
      ]
     },
     "execution_count": 7,
     "metadata": {},
     "output_type": "execute_result"
    }
   ],
   "source": [
    "xgboost.XGBClassifier().get_params()"
   ]
  },
  {
   "cell_type": "code",
   "execution_count": 8,
   "id": "45f4a079",
   "metadata": {},
   "outputs": [
    {
     "name": "stderr",
     "output_type": "stream",
     "text": [
      "C:\\Users\\HP\\anaconda3\\lib\\site-packages\\xgboost\\sklearn.py:835: UserWarning: `early_stopping_rounds` in `fit` method is deprecated for better compatibility with scikit-learn, use `early_stopping_rounds` in constructor or`set_params` instead.\n",
      "  warnings.warn(\n"
     ]
    },
    {
     "name": "stdout",
     "output_type": "stream",
     "text": [
      "[19:44:09] WARNING: C:\\buildkite-agent\\builds\\buildkite-windows-cpu-autoscaling-group-i-07593ffd91cd9da33-1\\xgboost\\xgboost-ci-windows\\src\\learner.cc:767: \n",
      "Parameters: { \"subsamples\" } are not used.\n",
      "\n",
      "[0]\tvalidation_0-auc:0.59940\n",
      "[1]\tvalidation_0-auc:0.66319\n",
      "[2]\tvalidation_0-auc:0.67590\n",
      "[3]\tvalidation_0-auc:0.69505\n",
      "[4]\tvalidation_0-auc:0.70854\n",
      "[5]\tvalidation_0-auc:0.71428\n",
      "[6]\tvalidation_0-auc:0.72305\n",
      "[7]\tvalidation_0-auc:0.72148\n",
      "[8]\tvalidation_0-auc:0.73220\n",
      "[9]\tvalidation_0-auc:0.73314\n",
      "[10]\tvalidation_0-auc:0.73672\n",
      "[11]\tvalidation_0-auc:0.74102\n",
      "[12]\tvalidation_0-auc:0.74349\n",
      "[13]\tvalidation_0-auc:0.74734\n",
      "[14]\tvalidation_0-auc:0.75000\n",
      "[15]\tvalidation_0-auc:0.75463\n",
      "[16]\tvalidation_0-auc:0.75756\n",
      "[17]\tvalidation_0-auc:0.75631\n",
      "[18]\tvalidation_0-auc:0.75852\n",
      "[19]\tvalidation_0-auc:0.75849\n",
      "[20]\tvalidation_0-auc:0.76003\n",
      "[21]\tvalidation_0-auc:0.76227\n",
      "[22]\tvalidation_0-auc:0.76416\n",
      "[23]\tvalidation_0-auc:0.76639\n",
      "[24]\tvalidation_0-auc:0.77147\n",
      "[25]\tvalidation_0-auc:0.77524\n",
      "[26]\tvalidation_0-auc:0.77785\n",
      "[27]\tvalidation_0-auc:0.78025\n",
      "[28]\tvalidation_0-auc:0.78298\n",
      "[29]\tvalidation_0-auc:0.78448\n",
      "[30]\tvalidation_0-auc:0.78601\n",
      "[31]\tvalidation_0-auc:0.78883\n",
      "[32]\tvalidation_0-auc:0.79160\n",
      "[33]\tvalidation_0-auc:0.79391\n",
      "[34]\tvalidation_0-auc:0.79487\n",
      "[35]\tvalidation_0-auc:0.79630\n",
      "[36]\tvalidation_0-auc:0.79775\n",
      "[37]\tvalidation_0-auc:0.79882\n",
      "[38]\tvalidation_0-auc:0.80053\n",
      "[39]\tvalidation_0-auc:0.80144\n",
      "[40]\tvalidation_0-auc:0.80380\n",
      "[41]\tvalidation_0-auc:0.80561\n",
      "[42]\tvalidation_0-auc:0.80742\n",
      "[43]\tvalidation_0-auc:0.80863\n",
      "[44]\tvalidation_0-auc:0.80981\n",
      "[45]\tvalidation_0-auc:0.81152\n",
      "[46]\tvalidation_0-auc:0.81344\n",
      "[47]\tvalidation_0-auc:0.81456\n",
      "[48]\tvalidation_0-auc:0.81533\n",
      "[49]\tvalidation_0-auc:0.81727\n",
      "[50]\tvalidation_0-auc:0.81794\n",
      "[51]\tvalidation_0-auc:0.81917\n",
      "[52]\tvalidation_0-auc:0.82047\n",
      "[53]\tvalidation_0-auc:0.82174\n",
      "[54]\tvalidation_0-auc:0.82266\n",
      "[55]\tvalidation_0-auc:0.82409\n",
      "[56]\tvalidation_0-auc:0.82598\n",
      "[57]\tvalidation_0-auc:0.82686\n",
      "[58]\tvalidation_0-auc:0.82776\n",
      "[59]\tvalidation_0-auc:0.82847\n",
      "[60]\tvalidation_0-auc:0.82863\n",
      "[61]\tvalidation_0-auc:0.82962\n",
      "[62]\tvalidation_0-auc:0.82933\n",
      "[63]\tvalidation_0-auc:0.83084\n",
      "[64]\tvalidation_0-auc:0.83172\n",
      "[65]\tvalidation_0-auc:0.83257\n",
      "[66]\tvalidation_0-auc:0.83339\n",
      "[67]\tvalidation_0-auc:0.83435\n",
      "[68]\tvalidation_0-auc:0.83520\n",
      "[69]\tvalidation_0-auc:0.83648\n",
      "[70]\tvalidation_0-auc:0.83672\n",
      "[71]\tvalidation_0-auc:0.83756\n",
      "[72]\tvalidation_0-auc:0.83820\n",
      "[73]\tvalidation_0-auc:0.83877\n",
      "[74]\tvalidation_0-auc:0.83955\n",
      "[75]\tvalidation_0-auc:0.84048\n",
      "[76]\tvalidation_0-auc:0.84117\n",
      "[77]\tvalidation_0-auc:0.84169\n",
      "[78]\tvalidation_0-auc:0.84258\n",
      "[79]\tvalidation_0-auc:0.84385\n",
      "[80]\tvalidation_0-auc:0.84435\n",
      "[81]\tvalidation_0-auc:0.84509\n",
      "[82]\tvalidation_0-auc:0.84570\n",
      "[83]\tvalidation_0-auc:0.84654\n",
      "[84]\tvalidation_0-auc:0.84731\n",
      "[85]\tvalidation_0-auc:0.84835\n",
      "[86]\tvalidation_0-auc:0.84904\n",
      "[87]\tvalidation_0-auc:0.84960\n",
      "[88]\tvalidation_0-auc:0.85000\n",
      "[89]\tvalidation_0-auc:0.85072\n",
      "[90]\tvalidation_0-auc:0.85126\n",
      "[91]\tvalidation_0-auc:0.85151\n",
      "[92]\tvalidation_0-auc:0.85216\n",
      "[93]\tvalidation_0-auc:0.85235\n",
      "[94]\tvalidation_0-auc:0.85310\n",
      "[95]\tvalidation_0-auc:0.85336\n",
      "[96]\tvalidation_0-auc:0.85408\n",
      "[97]\tvalidation_0-auc:0.85433\n",
      "[98]\tvalidation_0-auc:0.85472\n",
      "[99]\tvalidation_0-auc:0.85527\n",
      "[100]\tvalidation_0-auc:0.85591\n",
      "[101]\tvalidation_0-auc:0.85651\n",
      "[102]\tvalidation_0-auc:0.85691\n",
      "[103]\tvalidation_0-auc:0.85724\n",
      "[104]\tvalidation_0-auc:0.85770\n",
      "[105]\tvalidation_0-auc:0.85790\n",
      "[106]\tvalidation_0-auc:0.85819\n",
      "[107]\tvalidation_0-auc:0.85820\n",
      "[108]\tvalidation_0-auc:0.85882\n",
      "[109]\tvalidation_0-auc:0.85915\n",
      "[110]\tvalidation_0-auc:0.85946\n",
      "[111]\tvalidation_0-auc:0.85978\n",
      "[112]\tvalidation_0-auc:0.86021\n",
      "[113]\tvalidation_0-auc:0.86046\n",
      "[114]\tvalidation_0-auc:0.86085\n",
      "[115]\tvalidation_0-auc:0.86125\n",
      "[116]\tvalidation_0-auc:0.86160\n",
      "[117]\tvalidation_0-auc:0.86157\n",
      "[118]\tvalidation_0-auc:0.86186\n",
      "[119]\tvalidation_0-auc:0.86206\n",
      "[120]\tvalidation_0-auc:0.86235\n",
      "[121]\tvalidation_0-auc:0.86266\n",
      "[122]\tvalidation_0-auc:0.86305\n",
      "[123]\tvalidation_0-auc:0.86342\n",
      "[124]\tvalidation_0-auc:0.86367\n",
      "[125]\tvalidation_0-auc:0.86409\n",
      "[126]\tvalidation_0-auc:0.86436\n",
      "[127]\tvalidation_0-auc:0.86474\n",
      "[128]\tvalidation_0-auc:0.86505\n",
      "[129]\tvalidation_0-auc:0.86511\n",
      "[130]\tvalidation_0-auc:0.86504\n",
      "[131]\tvalidation_0-auc:0.86529\n",
      "[132]\tvalidation_0-auc:0.86545\n",
      "[133]\tvalidation_0-auc:0.86565\n",
      "[134]\tvalidation_0-auc:0.86593\n",
      "[135]\tvalidation_0-auc:0.86625\n",
      "[136]\tvalidation_0-auc:0.86643\n",
      "[137]\tvalidation_0-auc:0.86666\n",
      "[138]\tvalidation_0-auc:0.86682\n",
      "[139]\tvalidation_0-auc:0.86697\n",
      "[140]\tvalidation_0-auc:0.86729\n",
      "[141]\tvalidation_0-auc:0.86750\n",
      "[142]\tvalidation_0-auc:0.86774\n",
      "[143]\tvalidation_0-auc:0.86818\n",
      "[144]\tvalidation_0-auc:0.86830\n",
      "[145]\tvalidation_0-auc:0.86859\n",
      "[146]\tvalidation_0-auc:0.86892\n",
      "[147]\tvalidation_0-auc:0.86905\n",
      "[148]\tvalidation_0-auc:0.86917\n",
      "[149]\tvalidation_0-auc:0.86937\n",
      "[150]\tvalidation_0-auc:0.86963\n",
      "[151]\tvalidation_0-auc:0.86983\n",
      "[152]\tvalidation_0-auc:0.87001\n",
      "[153]\tvalidation_0-auc:0.87019\n",
      "[154]\tvalidation_0-auc:0.87044\n",
      "[155]\tvalidation_0-auc:0.87075\n",
      "[156]\tvalidation_0-auc:0.87101\n",
      "[157]\tvalidation_0-auc:0.87116\n",
      "[158]\tvalidation_0-auc:0.87148\n",
      "[159]\tvalidation_0-auc:0.87146\n",
      "[160]\tvalidation_0-auc:0.87154\n",
      "[161]\tvalidation_0-auc:0.87173\n",
      "[162]\tvalidation_0-auc:0.87191\n",
      "[163]\tvalidation_0-auc:0.87226\n",
      "[164]\tvalidation_0-auc:0.87265\n",
      "[165]\tvalidation_0-auc:0.87286\n",
      "[166]\tvalidation_0-auc:0.87304\n",
      "[167]\tvalidation_0-auc:0.87313\n",
      "[168]\tvalidation_0-auc:0.87328\n",
      "[169]\tvalidation_0-auc:0.87351\n",
      "[170]\tvalidation_0-auc:0.87375\n",
      "[171]\tvalidation_0-auc:0.87402\n",
      "[172]\tvalidation_0-auc:0.87424\n",
      "[173]\tvalidation_0-auc:0.87430\n",
      "[174]\tvalidation_0-auc:0.87460\n",
      "[175]\tvalidation_0-auc:0.87480\n",
      "[176]\tvalidation_0-auc:0.87496\n",
      "[177]\tvalidation_0-auc:0.87509\n",
      "[178]\tvalidation_0-auc:0.87510\n",
      "[179]\tvalidation_0-auc:0.87523\n",
      "[180]\tvalidation_0-auc:0.87544\n",
      "[181]\tvalidation_0-auc:0.87549\n",
      "[182]\tvalidation_0-auc:0.87563\n",
      "[183]\tvalidation_0-auc:0.87577\n",
      "[184]\tvalidation_0-auc:0.87581\n",
      "[185]\tvalidation_0-auc:0.87588\n",
      "[186]\tvalidation_0-auc:0.87586\n",
      "[187]\tvalidation_0-auc:0.87585\n",
      "[188]\tvalidation_0-auc:0.87585\n",
      "[189]\tvalidation_0-auc:0.87584\n",
      "[190]\tvalidation_0-auc:0.87593\n",
      "[191]\tvalidation_0-auc:0.87604\n",
      "[192]\tvalidation_0-auc:0.87627\n",
      "[193]\tvalidation_0-auc:0.87642\n",
      "[194]\tvalidation_0-auc:0.87651\n",
      "[195]\tvalidation_0-auc:0.87670\n",
      "[196]\tvalidation_0-auc:0.87681\n",
      "[197]\tvalidation_0-auc:0.87685\n",
      "[198]\tvalidation_0-auc:0.87705\n",
      "[199]\tvalidation_0-auc:0.87715\n",
      "[200]\tvalidation_0-auc:0.87726\n",
      "[201]\tvalidation_0-auc:0.87745\n",
      "[202]\tvalidation_0-auc:0.87749\n",
      "[203]\tvalidation_0-auc:0.87784\n",
      "[204]\tvalidation_0-auc:0.87788\n",
      "[205]\tvalidation_0-auc:0.87806\n",
      "[206]\tvalidation_0-auc:0.87807\n",
      "[207]\tvalidation_0-auc:0.87830\n",
      "[208]\tvalidation_0-auc:0.87828\n",
      "[209]\tvalidation_0-auc:0.87845\n",
      "[210]\tvalidation_0-auc:0.87849\n",
      "[211]\tvalidation_0-auc:0.87857\n",
      "[212]\tvalidation_0-auc:0.87866\n",
      "[213]\tvalidation_0-auc:0.87881\n",
      "[214]\tvalidation_0-auc:0.87895\n",
      "[215]\tvalidation_0-auc:0.87900\n",
      "[216]\tvalidation_0-auc:0.87901\n",
      "[217]\tvalidation_0-auc:0.87905\n",
      "[218]\tvalidation_0-auc:0.87908\n",
      "[219]\tvalidation_0-auc:0.87925\n",
      "[220]\tvalidation_0-auc:0.87930\n",
      "[221]\tvalidation_0-auc:0.87916\n",
      "[222]\tvalidation_0-auc:0.87941\n",
      "[223]\tvalidation_0-auc:0.87958\n",
      "[224]\tvalidation_0-auc:0.87966\n",
      "[225]\tvalidation_0-auc:0.87983\n",
      "[226]\tvalidation_0-auc:0.87997\n",
      "[227]\tvalidation_0-auc:0.88000\n",
      "[228]\tvalidation_0-auc:0.88011\n",
      "[229]\tvalidation_0-auc:0.88020\n",
      "[230]\tvalidation_0-auc:0.88025\n",
      "[231]\tvalidation_0-auc:0.88027\n",
      "[232]\tvalidation_0-auc:0.88039\n",
      "[233]\tvalidation_0-auc:0.88044\n",
      "[234]\tvalidation_0-auc:0.88056\n",
      "[235]\tvalidation_0-auc:0.88059\n",
      "[236]\tvalidation_0-auc:0.88057\n",
      "[237]\tvalidation_0-auc:0.88057\n",
      "[238]\tvalidation_0-auc:0.88070\n",
      "[239]\tvalidation_0-auc:0.88081\n",
      "[240]\tvalidation_0-auc:0.88089\n",
      "[241]\tvalidation_0-auc:0.88097\n",
      "[242]\tvalidation_0-auc:0.88103\n",
      "[243]\tvalidation_0-auc:0.88113\n",
      "[244]\tvalidation_0-auc:0.88134\n",
      "[245]\tvalidation_0-auc:0.88137\n",
      "[246]\tvalidation_0-auc:0.88148\n",
      "[247]\tvalidation_0-auc:0.88147\n",
      "[248]\tvalidation_0-auc:0.88153\n",
      "[249]\tvalidation_0-auc:0.88167\n",
      "[250]\tvalidation_0-auc:0.88168\n",
      "[251]\tvalidation_0-auc:0.88177\n",
      "[252]\tvalidation_0-auc:0.88184\n",
      "[253]\tvalidation_0-auc:0.88202\n",
      "[254]\tvalidation_0-auc:0.88201\n",
      "[255]\tvalidation_0-auc:0.88199\n",
      "[256]\tvalidation_0-auc:0.88210\n",
      "[257]\tvalidation_0-auc:0.88217\n",
      "[258]\tvalidation_0-auc:0.88238\n",
      "[259]\tvalidation_0-auc:0.88259\n",
      "[260]\tvalidation_0-auc:0.88268\n",
      "[261]\tvalidation_0-auc:0.88267\n"
     ]
    },
    {
     "name": "stdout",
     "output_type": "stream",
     "text": [
      "[262]\tvalidation_0-auc:0.88276\n",
      "[263]\tvalidation_0-auc:0.88286\n",
      "[264]\tvalidation_0-auc:0.88299\n",
      "[265]\tvalidation_0-auc:0.88301\n",
      "[266]\tvalidation_0-auc:0.88312\n",
      "[267]\tvalidation_0-auc:0.88318\n",
      "[268]\tvalidation_0-auc:0.88332\n",
      "[269]\tvalidation_0-auc:0.88335\n",
      "[270]\tvalidation_0-auc:0.88344\n",
      "[271]\tvalidation_0-auc:0.88347\n",
      "[272]\tvalidation_0-auc:0.88360\n",
      "[273]\tvalidation_0-auc:0.88372\n",
      "[274]\tvalidation_0-auc:0.88373\n",
      "[275]\tvalidation_0-auc:0.88385\n",
      "[276]\tvalidation_0-auc:0.88388\n",
      "[277]\tvalidation_0-auc:0.88391\n",
      "[278]\tvalidation_0-auc:0.88400\n",
      "[279]\tvalidation_0-auc:0.88412\n",
      "[280]\tvalidation_0-auc:0.88423\n",
      "[281]\tvalidation_0-auc:0.88437\n",
      "[282]\tvalidation_0-auc:0.88451\n",
      "[283]\tvalidation_0-auc:0.88459\n",
      "[284]\tvalidation_0-auc:0.88463\n",
      "[285]\tvalidation_0-auc:0.88468\n",
      "[286]\tvalidation_0-auc:0.88473\n",
      "[287]\tvalidation_0-auc:0.88473\n",
      "[288]\tvalidation_0-auc:0.88481\n",
      "[289]\tvalidation_0-auc:0.88482\n",
      "[290]\tvalidation_0-auc:0.88489\n",
      "[291]\tvalidation_0-auc:0.88489\n",
      "[292]\tvalidation_0-auc:0.88494\n",
      "[293]\tvalidation_0-auc:0.88499\n",
      "[294]\tvalidation_0-auc:0.88502\n",
      "[295]\tvalidation_0-auc:0.88510\n",
      "[296]\tvalidation_0-auc:0.88513\n",
      "[297]\tvalidation_0-auc:0.88513\n",
      "[298]\tvalidation_0-auc:0.88514\n",
      "[299]\tvalidation_0-auc:0.88515\n",
      "[300]\tvalidation_0-auc:0.88520\n",
      "[301]\tvalidation_0-auc:0.88525\n",
      "[302]\tvalidation_0-auc:0.88530\n",
      "[303]\tvalidation_0-auc:0.88533\n",
      "[304]\tvalidation_0-auc:0.88544\n",
      "[305]\tvalidation_0-auc:0.88550\n",
      "[306]\tvalidation_0-auc:0.88557\n",
      "[307]\tvalidation_0-auc:0.88560\n",
      "[308]\tvalidation_0-auc:0.88574\n",
      "[309]\tvalidation_0-auc:0.88579\n",
      "[310]\tvalidation_0-auc:0.88581\n",
      "[311]\tvalidation_0-auc:0.88579\n",
      "[312]\tvalidation_0-auc:0.88581\n",
      "[313]\tvalidation_0-auc:0.88584\n",
      "[314]\tvalidation_0-auc:0.88586\n",
      "[315]\tvalidation_0-auc:0.88604\n",
      "[316]\tvalidation_0-auc:0.88609\n",
      "[317]\tvalidation_0-auc:0.88612\n",
      "[318]\tvalidation_0-auc:0.88615\n",
      "[319]\tvalidation_0-auc:0.88616\n",
      "[320]\tvalidation_0-auc:0.88620\n",
      "[321]\tvalidation_0-auc:0.88620\n",
      "[322]\tvalidation_0-auc:0.88632\n",
      "[323]\tvalidation_0-auc:0.88639\n",
      "[324]\tvalidation_0-auc:0.88644\n",
      "[325]\tvalidation_0-auc:0.88648\n",
      "[326]\tvalidation_0-auc:0.88651\n",
      "[327]\tvalidation_0-auc:0.88651\n",
      "[328]\tvalidation_0-auc:0.88662\n",
      "[329]\tvalidation_0-auc:0.88664\n",
      "[330]\tvalidation_0-auc:0.88668\n",
      "[331]\tvalidation_0-auc:0.88679\n",
      "[332]\tvalidation_0-auc:0.88682\n",
      "[333]\tvalidation_0-auc:0.88688\n",
      "[334]\tvalidation_0-auc:0.88694\n",
      "[335]\tvalidation_0-auc:0.88701\n",
      "[336]\tvalidation_0-auc:0.88705\n",
      "[337]\tvalidation_0-auc:0.88709\n",
      "[338]\tvalidation_0-auc:0.88718\n",
      "[339]\tvalidation_0-auc:0.88715\n",
      "[340]\tvalidation_0-auc:0.88722\n",
      "[341]\tvalidation_0-auc:0.88721\n",
      "[342]\tvalidation_0-auc:0.88731\n",
      "[343]\tvalidation_0-auc:0.88737\n",
      "[344]\tvalidation_0-auc:0.88736\n",
      "[345]\tvalidation_0-auc:0.88738\n",
      "[346]\tvalidation_0-auc:0.88747\n",
      "[347]\tvalidation_0-auc:0.88748\n",
      "[348]\tvalidation_0-auc:0.88751\n",
      "[349]\tvalidation_0-auc:0.88745\n",
      "[350]\tvalidation_0-auc:0.88744\n",
      "[351]\tvalidation_0-auc:0.88747\n",
      "[352]\tvalidation_0-auc:0.88745\n",
      "[353]\tvalidation_0-auc:0.88745\n",
      "[354]\tvalidation_0-auc:0.88750\n",
      "[355]\tvalidation_0-auc:0.88754\n",
      "[356]\tvalidation_0-auc:0.88760\n",
      "[357]\tvalidation_0-auc:0.88765\n",
      "[358]\tvalidation_0-auc:0.88764\n",
      "[359]\tvalidation_0-auc:0.88767\n",
      "[360]\tvalidation_0-auc:0.88772\n",
      "[361]\tvalidation_0-auc:0.88769\n",
      "[362]\tvalidation_0-auc:0.88772\n",
      "[363]\tvalidation_0-auc:0.88776\n",
      "[364]\tvalidation_0-auc:0.88786\n",
      "[365]\tvalidation_0-auc:0.88793\n",
      "[366]\tvalidation_0-auc:0.88791\n",
      "[367]\tvalidation_0-auc:0.88792\n",
      "[368]\tvalidation_0-auc:0.88794\n",
      "[369]\tvalidation_0-auc:0.88796\n",
      "[370]\tvalidation_0-auc:0.88796\n",
      "[371]\tvalidation_0-auc:0.88800\n",
      "[372]\tvalidation_0-auc:0.88802\n",
      "[373]\tvalidation_0-auc:0.88814\n",
      "[374]\tvalidation_0-auc:0.88819\n",
      "[375]\tvalidation_0-auc:0.88829\n",
      "[376]\tvalidation_0-auc:0.88833\n",
      "[377]\tvalidation_0-auc:0.88841\n",
      "[378]\tvalidation_0-auc:0.88838\n",
      "[379]\tvalidation_0-auc:0.88843\n",
      "[380]\tvalidation_0-auc:0.88847\n",
      "[381]\tvalidation_0-auc:0.88849\n",
      "[382]\tvalidation_0-auc:0.88852\n",
      "[383]\tvalidation_0-auc:0.88853\n",
      "[384]\tvalidation_0-auc:0.88854\n",
      "[385]\tvalidation_0-auc:0.88862\n",
      "[386]\tvalidation_0-auc:0.88864\n",
      "[387]\tvalidation_0-auc:0.88868\n",
      "[388]\tvalidation_0-auc:0.88869\n",
      "[389]\tvalidation_0-auc:0.88871\n",
      "[390]\tvalidation_0-auc:0.88880\n",
      "[391]\tvalidation_0-auc:0.88878\n",
      "[392]\tvalidation_0-auc:0.88882\n",
      "[393]\tvalidation_0-auc:0.88884\n",
      "[394]\tvalidation_0-auc:0.88889\n",
      "[395]\tvalidation_0-auc:0.88893\n",
      "[396]\tvalidation_0-auc:0.88897\n",
      "[397]\tvalidation_0-auc:0.88899\n",
      "[398]\tvalidation_0-auc:0.88899\n",
      "[399]\tvalidation_0-auc:0.88909\n",
      "[400]\tvalidation_0-auc:0.88911\n",
      "[401]\tvalidation_0-auc:0.88913\n",
      "[402]\tvalidation_0-auc:0.88908\n",
      "[403]\tvalidation_0-auc:0.88907\n",
      "[404]\tvalidation_0-auc:0.88910\n",
      "[405]\tvalidation_0-auc:0.88914\n",
      "[406]\tvalidation_0-auc:0.88916\n",
      "[407]\tvalidation_0-auc:0.88923\n",
      "[408]\tvalidation_0-auc:0.88918\n",
      "[409]\tvalidation_0-auc:0.88924\n",
      "[410]\tvalidation_0-auc:0.88930\n",
      "[411]\tvalidation_0-auc:0.88934\n",
      "[412]\tvalidation_0-auc:0.88929\n",
      "[413]\tvalidation_0-auc:0.88931\n",
      "[414]\tvalidation_0-auc:0.88935\n",
      "[415]\tvalidation_0-auc:0.88938\n",
      "[416]\tvalidation_0-auc:0.88936\n",
      "[417]\tvalidation_0-auc:0.88942\n",
      "[418]\tvalidation_0-auc:0.88946\n",
      "[419]\tvalidation_0-auc:0.88946\n",
      "[420]\tvalidation_0-auc:0.88951\n",
      "[421]\tvalidation_0-auc:0.88945\n",
      "[422]\tvalidation_0-auc:0.88946\n",
      "[423]\tvalidation_0-auc:0.88948\n",
      "[424]\tvalidation_0-auc:0.88950\n",
      "[425]\tvalidation_0-auc:0.88949\n",
      "[426]\tvalidation_0-auc:0.88954\n",
      "[427]\tvalidation_0-auc:0.88956\n",
      "[428]\tvalidation_0-auc:0.88961\n",
      "[429]\tvalidation_0-auc:0.88961\n",
      "[430]\tvalidation_0-auc:0.88956\n",
      "[431]\tvalidation_0-auc:0.88953\n",
      "[432]\tvalidation_0-auc:0.88948\n",
      "[433]\tvalidation_0-auc:0.88950\n",
      "[434]\tvalidation_0-auc:0.88956\n",
      "[435]\tvalidation_0-auc:0.88961\n",
      "[436]\tvalidation_0-auc:0.88966\n",
      "[437]\tvalidation_0-auc:0.88966\n",
      "[438]\tvalidation_0-auc:0.88968\n",
      "[439]\tvalidation_0-auc:0.88965\n",
      "[440]\tvalidation_0-auc:0.88966\n",
      "[441]\tvalidation_0-auc:0.88969\n",
      "[442]\tvalidation_0-auc:0.88970\n",
      "[443]\tvalidation_0-auc:0.88969\n",
      "[444]\tvalidation_0-auc:0.88971\n",
      "[445]\tvalidation_0-auc:0.88977\n",
      "[446]\tvalidation_0-auc:0.88977\n",
      "[447]\tvalidation_0-auc:0.88980\n",
      "[448]\tvalidation_0-auc:0.88988\n",
      "[449]\tvalidation_0-auc:0.88994\n",
      "[450]\tvalidation_0-auc:0.88989\n",
      "[451]\tvalidation_0-auc:0.88993\n",
      "[452]\tvalidation_0-auc:0.88990\n",
      "[453]\tvalidation_0-auc:0.88987\n",
      "[454]\tvalidation_0-auc:0.88987\n",
      "[455]\tvalidation_0-auc:0.88990\n",
      "[456]\tvalidation_0-auc:0.88989\n",
      "[457]\tvalidation_0-auc:0.88987\n",
      "[458]\tvalidation_0-auc:0.88990\n"
     ]
    },
    {
     "data": {
      "text/plain": [
       "XGBClassifier(base_score=None, booster=None, callbacks=None,\n",
       "              colsample_bylevel=None, colsample_bynode=None,\n",
       "              colsample_bytree=0.5, early_stopping_rounds=None,\n",
       "              enable_categorical=False, eval_metric='auc', feature_types=None,\n",
       "              gamma=None, gpu_id=None, grow_policy=None, importance_type=None,\n",
       "              interaction_constraints=None, learning_rate=0.1, max_bin=None,\n",
       "              max_cat_threshold=None, max_cat_to_onehot=None,\n",
       "              max_delta_step=None, max_depth=5, max_leaves=None,\n",
       "              min_child_weight=None, missing=nan, monotone_constraints=None,\n",
       "              n_estimators=5000, n_jobs=None, num_parallel_tree=None,\n",
       "              predictor=None, random_state=None, ...)"
      ]
     },
     "execution_count": 8,
     "metadata": {},
     "output_type": "execute_result"
    }
   ],
   "source": [
    "model_xgboost=xgboost.XGBClassifier(learning_rate=0.1,\n",
    "                                   max_depth=5,\n",
    "                                   n_estimators=5000,\n",
    "                                   subsamples=0.5,\n",
    "                                   colsample_bytree=0.5,\n",
    "                                   eval_metric='auc',\n",
    "                                   verbosity=1)\n",
    "\n",
    "eval_set=[(X_val,y_val)]\n",
    "\n",
    "model_xgboost.fit(X_train,\n",
    "                 y_train,\n",
    "                 early_stopping_rounds=10,\n",
    "                 eval_set=eval_set,\n",
    "                 verbose=True)"
   ]
  },
  {
   "cell_type": "code",
   "execution_count": 9,
   "id": "210cb629",
   "metadata": {},
   "outputs": [],
   "source": [
    "y_train_pred=model_xgboost.predict_proba(X_train)[:,1]\n",
    "y_val_pred=model_xgboost.predict_proba(X_val)[:,1]"
   ]
  },
  {
   "cell_type": "code",
   "execution_count": 10,
   "id": "2564837b",
   "metadata": {},
   "outputs": [
    {
     "name": "stdout",
     "output_type": "stream",
     "text": [
      "AUC Train: 0.9771\n",
      "AUC Valid:0.8899\n"
     ]
    }
   ],
   "source": [
    "print('AUC Train: {:.4f}\\nAUC Valid:{:.4f}'.format (roc_auc_score(y_train,y_train_pred),\n",
    "                                                    roc_auc_score(y_val,y_val_pred)))"
   ]
  },
  {
   "cell_type": "code",
   "execution_count": 11,
   "id": "e7ef981a",
   "metadata": {},
   "outputs": [
    {
     "name": "stdout",
     "output_type": "stream",
     "text": [
      "27\n"
     ]
    },
    {
     "data": {
      "text/plain": [
       "{'learning_rate': [0.02, 0.05, 1],\n",
       " 'max_depth': [2, 3, 5],\n",
       " 'n_estimators': [100, 200, 300]}"
      ]
     },
     "execution_count": 11,
     "metadata": {},
     "output_type": "execute_result"
    }
   ],
   "source": [
    "learning_rate_list=[0.02,0.05,1]\n",
    "max_depth_list=[2,3,5]\n",
    "n_estimators_list=[100,200,300]\n",
    "\n",
    "param_dict={'learning_rate':learning_rate_list,\n",
    "            'max_depth':max_depth_list,\n",
    "            'n_estimators': n_estimators_list}\n",
    "\n",
    "num_combinations=1\n",
    "\n",
    "for v in param_dict.values(): num_combinations*=len(v)\n",
    "    \n",
    "print(num_combinations)\n",
    "\n",
    "param_dict"
   ]
  },
  {
   "cell_type": "code",
   "execution_count": 12,
   "id": "39ced599",
   "metadata": {},
   "outputs": [
    {
     "name": "stdout",
     "output_type": "stream",
     "text": [
      "Fitting 2 folds for each of 27 candidates, totalling 54 fits\n"
     ]
    },
    {
     "name": "stderr",
     "output_type": "stream",
     "text": [
      "C:\\Users\\HP\\anaconda3\\lib\\site-packages\\xgboost\\sklearn.py:1395: UserWarning: `use_label_encoder` is deprecated in 1.7.0.\n",
      "  warnings.warn(\"`use_label_encoder` is deprecated in 1.7.0.\")\n",
      "C:\\Users\\HP\\anaconda3\\lib\\site-packages\\xgboost\\sklearn.py:1395: UserWarning: `use_label_encoder` is deprecated in 1.7.0.\n",
      "  warnings.warn(\"`use_label_encoder` is deprecated in 1.7.0.\")\n",
      "C:\\Users\\HP\\anaconda3\\lib\\site-packages\\xgboost\\sklearn.py:1395: UserWarning: `use_label_encoder` is deprecated in 1.7.0.\n",
      "  warnings.warn(\"`use_label_encoder` is deprecated in 1.7.0.\")\n"
     ]
    },
    {
     "name": "stdout",
     "output_type": "stream",
     "text": [
      "[CV 1/2] END learning_rate=0.02, max_depth=2, n_estimators=100;, score=(train=0.744, test=0.725) total time=  38.1s\n"
     ]
    },
    {
     "name": "stderr",
     "output_type": "stream",
     "text": [
      "C:\\Users\\HP\\anaconda3\\lib\\site-packages\\xgboost\\sklearn.py:1395: UserWarning: `use_label_encoder` is deprecated in 1.7.0.\n",
      "  warnings.warn(\"`use_label_encoder` is deprecated in 1.7.0.\")\n"
     ]
    },
    {
     "name": "stdout",
     "output_type": "stream",
     "text": [
      "[CV 2/2] END learning_rate=0.02, max_depth=2, n_estimators=100;, score=(train=0.739, test=0.735) total time=  37.6s\n"
     ]
    },
    {
     "name": "stderr",
     "output_type": "stream",
     "text": [
      "C:\\Users\\HP\\anaconda3\\lib\\site-packages\\xgboost\\sklearn.py:1395: UserWarning: `use_label_encoder` is deprecated in 1.7.0.\n",
      "  warnings.warn(\"`use_label_encoder` is deprecated in 1.7.0.\")\n"
     ]
    },
    {
     "name": "stdout",
     "output_type": "stream",
     "text": [
      "[CV 1/2] END learning_rate=0.02, max_depth=2, n_estimators=200;, score=(train=0.785, test=0.766) total time= 1.2min\n"
     ]
    },
    {
     "name": "stderr",
     "output_type": "stream",
     "text": [
      "C:\\Users\\HP\\anaconda3\\lib\\site-packages\\xgboost\\sklearn.py:1395: UserWarning: `use_label_encoder` is deprecated in 1.7.0.\n",
      "  warnings.warn(\"`use_label_encoder` is deprecated in 1.7.0.\")\n"
     ]
    },
    {
     "name": "stdout",
     "output_type": "stream",
     "text": [
      "[CV 2/2] END learning_rate=0.02, max_depth=2, n_estimators=200;, score=(train=0.783, test=0.775) total time=122.2min\n"
     ]
    },
    {
     "name": "stderr",
     "output_type": "stream",
     "text": [
      "C:\\Users\\HP\\anaconda3\\lib\\site-packages\\xgboost\\sklearn.py:1395: UserWarning: `use_label_encoder` is deprecated in 1.7.0.\n",
      "  warnings.warn(\"`use_label_encoder` is deprecated in 1.7.0.\")\n"
     ]
    },
    {
     "name": "stdout",
     "output_type": "stream",
     "text": [
      "[CV 1/2] END learning_rate=0.02, max_depth=2, n_estimators=300;, score=(train=0.813, test=0.791) total time= 1.6min\n"
     ]
    },
    {
     "name": "stderr",
     "output_type": "stream",
     "text": [
      "C:\\Users\\HP\\anaconda3\\lib\\site-packages\\xgboost\\sklearn.py:1395: UserWarning: `use_label_encoder` is deprecated in 1.7.0.\n",
      "  warnings.warn(\"`use_label_encoder` is deprecated in 1.7.0.\")\n"
     ]
    },
    {
     "name": "stdout",
     "output_type": "stream",
     "text": [
      "[CV 2/2] END learning_rate=0.02, max_depth=2, n_estimators=300;, score=(train=0.808, test=0.799) total time= 1.8min\n"
     ]
    },
    {
     "name": "stderr",
     "output_type": "stream",
     "text": [
      "C:\\Users\\HP\\anaconda3\\lib\\site-packages\\xgboost\\sklearn.py:1395: UserWarning: `use_label_encoder` is deprecated in 1.7.0.\n",
      "  warnings.warn(\"`use_label_encoder` is deprecated in 1.7.0.\")\n"
     ]
    },
    {
     "name": "stdout",
     "output_type": "stream",
     "text": [
      "[CV 1/2] END learning_rate=0.02, max_depth=3, n_estimators=100;, score=(train=0.779, test=0.753) total time=  52.5s\n"
     ]
    },
    {
     "name": "stderr",
     "output_type": "stream",
     "text": [
      "C:\\Users\\HP\\anaconda3\\lib\\site-packages\\xgboost\\sklearn.py:1395: UserWarning: `use_label_encoder` is deprecated in 1.7.0.\n",
      "  warnings.warn(\"`use_label_encoder` is deprecated in 1.7.0.\")\n"
     ]
    },
    {
     "name": "stdout",
     "output_type": "stream",
     "text": [
      "[CV 2/2] END learning_rate=0.02, max_depth=3, n_estimators=100;, score=(train=0.779, test=0.767) total time=  53.6s\n"
     ]
    },
    {
     "name": "stderr",
     "output_type": "stream",
     "text": [
      "C:\\Users\\HP\\anaconda3\\lib\\site-packages\\xgboost\\sklearn.py:1395: UserWarning: `use_label_encoder` is deprecated in 1.7.0.\n",
      "  warnings.warn(\"`use_label_encoder` is deprecated in 1.7.0.\")\n"
     ]
    },
    {
     "name": "stdout",
     "output_type": "stream",
     "text": [
      "[CV 1/2] END learning_rate=0.02, max_depth=3, n_estimators=200;, score=(train=0.819, test=0.791) total time= 5.2min\n"
     ]
    },
    {
     "name": "stderr",
     "output_type": "stream",
     "text": [
      "C:\\Users\\HP\\anaconda3\\lib\\site-packages\\xgboost\\sklearn.py:1395: UserWarning: `use_label_encoder` is deprecated in 1.7.0.\n",
      "  warnings.warn(\"`use_label_encoder` is deprecated in 1.7.0.\")\n"
     ]
    },
    {
     "name": "stdout",
     "output_type": "stream",
     "text": [
      "[CV 2/2] END learning_rate=0.02, max_depth=3, n_estimators=200;, score=(train=0.815, test=0.798) total time= 1.7min\n"
     ]
    },
    {
     "name": "stderr",
     "output_type": "stream",
     "text": [
      "C:\\Users\\HP\\anaconda3\\lib\\site-packages\\xgboost\\sklearn.py:1395: UserWarning: `use_label_encoder` is deprecated in 1.7.0.\n",
      "  warnings.warn(\"`use_label_encoder` is deprecated in 1.7.0.\")\n"
     ]
    },
    {
     "name": "stdout",
     "output_type": "stream",
     "text": [
      "[CV 1/2] END learning_rate=0.02, max_depth=3, n_estimators=300;, score=(train=0.843, test=0.813) total time= 1.9min\n"
     ]
    },
    {
     "name": "stderr",
     "output_type": "stream",
     "text": [
      "C:\\Users\\HP\\anaconda3\\lib\\site-packages\\xgboost\\sklearn.py:1395: UserWarning: `use_label_encoder` is deprecated in 1.7.0.\n",
      "  warnings.warn(\"`use_label_encoder` is deprecated in 1.7.0.\")\n"
     ]
    },
    {
     "name": "stdout",
     "output_type": "stream",
     "text": [
      "[CV 2/2] END learning_rate=0.02, max_depth=3, n_estimators=300;, score=(train=0.838, test=0.820) total time= 1.5min\n"
     ]
    },
    {
     "name": "stderr",
     "output_type": "stream",
     "text": [
      "C:\\Users\\HP\\anaconda3\\lib\\site-packages\\xgboost\\sklearn.py:1395: UserWarning: `use_label_encoder` is deprecated in 1.7.0.\n",
      "  warnings.warn(\"`use_label_encoder` is deprecated in 1.7.0.\")\n"
     ]
    },
    {
     "name": "stdout",
     "output_type": "stream",
     "text": [
      "[CV 1/2] END learning_rate=0.02, max_depth=5, n_estimators=100;, score=(train=0.840, test=0.792) total time=  41.7s\n"
     ]
    },
    {
     "name": "stderr",
     "output_type": "stream",
     "text": [
      "C:\\Users\\HP\\anaconda3\\lib\\site-packages\\xgboost\\sklearn.py:1395: UserWarning: `use_label_encoder` is deprecated in 1.7.0.\n",
      "  warnings.warn(\"`use_label_encoder` is deprecated in 1.7.0.\")\n"
     ]
    },
    {
     "name": "stdout",
     "output_type": "stream",
     "text": [
      "[CV 2/2] END learning_rate=0.02, max_depth=5, n_estimators=100;, score=(train=0.838, test=0.803) total time=  48.4s\n"
     ]
    },
    {
     "name": "stderr",
     "output_type": "stream",
     "text": [
      "C:\\Users\\HP\\anaconda3\\lib\\site-packages\\xgboost\\sklearn.py:1395: UserWarning: `use_label_encoder` is deprecated in 1.7.0.\n",
      "  warnings.warn(\"`use_label_encoder` is deprecated in 1.7.0.\")\n"
     ]
    },
    {
     "name": "stdout",
     "output_type": "stream",
     "text": [
      "[CV 1/2] END learning_rate=0.02, max_depth=5, n_estimators=200;, score=(train=0.876, test=0.822) total time= 1.4min\n"
     ]
    },
    {
     "name": "stderr",
     "output_type": "stream",
     "text": [
      "C:\\Users\\HP\\anaconda3\\lib\\site-packages\\xgboost\\sklearn.py:1395: UserWarning: `use_label_encoder` is deprecated in 1.7.0.\n",
      "  warnings.warn(\"`use_label_encoder` is deprecated in 1.7.0.\")\n"
     ]
    },
    {
     "name": "stdout",
     "output_type": "stream",
     "text": [
      "[CV 2/2] END learning_rate=0.02, max_depth=5, n_estimators=200;, score=(train=0.871, test=0.827) total time= 1.4min\n"
     ]
    },
    {
     "name": "stderr",
     "output_type": "stream",
     "text": [
      "C:\\Users\\HP\\anaconda3\\lib\\site-packages\\xgboost\\sklearn.py:1395: UserWarning: `use_label_encoder` is deprecated in 1.7.0.\n",
      "  warnings.warn(\"`use_label_encoder` is deprecated in 1.7.0.\")\n"
     ]
    },
    {
     "name": "stdout",
     "output_type": "stream",
     "text": [
      "[CV 1/2] END learning_rate=0.02, max_depth=5, n_estimators=300;, score=(train=0.900, test=0.839) total time= 2.2min\n"
     ]
    },
    {
     "name": "stderr",
     "output_type": "stream",
     "text": [
      "C:\\Users\\HP\\anaconda3\\lib\\site-packages\\xgboost\\sklearn.py:1395: UserWarning: `use_label_encoder` is deprecated in 1.7.0.\n",
      "  warnings.warn(\"`use_label_encoder` is deprecated in 1.7.0.\")\n"
     ]
    },
    {
     "name": "stdout",
     "output_type": "stream",
     "text": [
      "[CV 2/2] END learning_rate=0.02, max_depth=5, n_estimators=300;, score=(train=0.894, test=0.845) total time= 2.3min\n"
     ]
    },
    {
     "name": "stderr",
     "output_type": "stream",
     "text": [
      "C:\\Users\\HP\\anaconda3\\lib\\site-packages\\xgboost\\sklearn.py:1395: UserWarning: `use_label_encoder` is deprecated in 1.7.0.\n",
      "  warnings.warn(\"`use_label_encoder` is deprecated in 1.7.0.\")\n"
     ]
    },
    {
     "name": "stdout",
     "output_type": "stream",
     "text": [
      "[CV 1/2] END learning_rate=0.05, max_depth=2, n_estimators=100;, score=(train=0.792, test=0.772) total time=  27.2s\n"
     ]
    },
    {
     "name": "stderr",
     "output_type": "stream",
     "text": [
      "C:\\Users\\HP\\anaconda3\\lib\\site-packages\\xgboost\\sklearn.py:1395: UserWarning: `use_label_encoder` is deprecated in 1.7.0.\n",
      "  warnings.warn(\"`use_label_encoder` is deprecated in 1.7.0.\")\n"
     ]
    },
    {
     "name": "stdout",
     "output_type": "stream",
     "text": [
      "[CV 2/2] END learning_rate=0.05, max_depth=2, n_estimators=100;, score=(train=0.795, test=0.786) total time=  26.1s\n"
     ]
    },
    {
     "name": "stderr",
     "output_type": "stream",
     "text": [
      "C:\\Users\\HP\\anaconda3\\lib\\site-packages\\xgboost\\sklearn.py:1395: UserWarning: `use_label_encoder` is deprecated in 1.7.0.\n",
      "  warnings.warn(\"`use_label_encoder` is deprecated in 1.7.0.\")\n"
     ]
    },
    {
     "name": "stdout",
     "output_type": "stream",
     "text": [
      "[CV 1/2] END learning_rate=0.05, max_depth=2, n_estimators=200;, score=(train=0.839, test=0.816) total time=  50.1s\n"
     ]
    },
    {
     "name": "stderr",
     "output_type": "stream",
     "text": [
      "C:\\Users\\HP\\anaconda3\\lib\\site-packages\\xgboost\\sklearn.py:1395: UserWarning: `use_label_encoder` is deprecated in 1.7.0.\n",
      "  warnings.warn(\"`use_label_encoder` is deprecated in 1.7.0.\")\n"
     ]
    },
    {
     "name": "stdout",
     "output_type": "stream",
     "text": [
      "[CV 2/2] END learning_rate=0.05, max_depth=2, n_estimators=200;, score=(train=0.838, test=0.825) total time=  53.9s\n"
     ]
    },
    {
     "name": "stderr",
     "output_type": "stream",
     "text": [
      "C:\\Users\\HP\\anaconda3\\lib\\site-packages\\xgboost\\sklearn.py:1395: UserWarning: `use_label_encoder` is deprecated in 1.7.0.\n",
      "  warnings.warn(\"`use_label_encoder` is deprecated in 1.7.0.\")\n"
     ]
    },
    {
     "name": "stdout",
     "output_type": "stream",
     "text": [
      "[CV 1/2] END learning_rate=0.05, max_depth=2, n_estimators=300;, score=(train=0.863, test=0.838) total time= 1.3min\n"
     ]
    },
    {
     "name": "stderr",
     "output_type": "stream",
     "text": [
      "C:\\Users\\HP\\anaconda3\\lib\\site-packages\\xgboost\\sklearn.py:1395: UserWarning: `use_label_encoder` is deprecated in 1.7.0.\n",
      "  warnings.warn(\"`use_label_encoder` is deprecated in 1.7.0.\")\n"
     ]
    },
    {
     "name": "stdout",
     "output_type": "stream",
     "text": [
      "[CV 2/2] END learning_rate=0.05, max_depth=2, n_estimators=300;, score=(train=0.859, test=0.845) total time= 1.3min\n"
     ]
    },
    {
     "name": "stderr",
     "output_type": "stream",
     "text": [
      "C:\\Users\\HP\\anaconda3\\lib\\site-packages\\xgboost\\sklearn.py:1395: UserWarning: `use_label_encoder` is deprecated in 1.7.0.\n",
      "  warnings.warn(\"`use_label_encoder` is deprecated in 1.7.0.\")\n"
     ]
    },
    {
     "name": "stdout",
     "output_type": "stream",
     "text": [
      "[CV 1/2] END learning_rate=0.05, max_depth=3, n_estimators=100;, score=(train=0.825, test=0.796) total time=  42.2s\n"
     ]
    },
    {
     "name": "stderr",
     "output_type": "stream",
     "text": [
      "C:\\Users\\HP\\anaconda3\\lib\\site-packages\\xgboost\\sklearn.py:1395: UserWarning: `use_label_encoder` is deprecated in 1.7.0.\n",
      "  warnings.warn(\"`use_label_encoder` is deprecated in 1.7.0.\")\n"
     ]
    },
    {
     "name": "stdout",
     "output_type": "stream",
     "text": [
      "[CV 2/2] END learning_rate=0.05, max_depth=3, n_estimators=100;, score=(train=0.826, test=0.808) total time=  37.9s\n"
     ]
    },
    {
     "name": "stderr",
     "output_type": "stream",
     "text": [
      "C:\\Users\\HP\\anaconda3\\lib\\site-packages\\xgboost\\sklearn.py:1395: UserWarning: `use_label_encoder` is deprecated in 1.7.0.\n",
      "  warnings.warn(\"`use_label_encoder` is deprecated in 1.7.0.\")\n"
     ]
    },
    {
     "name": "stdout",
     "output_type": "stream",
     "text": [
      "[CV 1/2] END learning_rate=0.05, max_depth=3, n_estimators=200;, score=(train=0.869, test=0.836) total time= 1.2min\n"
     ]
    },
    {
     "name": "stderr",
     "output_type": "stream",
     "text": [
      "C:\\Users\\HP\\anaconda3\\lib\\site-packages\\xgboost\\sklearn.py:1395: UserWarning: `use_label_encoder` is deprecated in 1.7.0.\n",
      "  warnings.warn(\"`use_label_encoder` is deprecated in 1.7.0.\")\n"
     ]
    },
    {
     "name": "stdout",
     "output_type": "stream",
     "text": [
      "[CV 2/2] END learning_rate=0.05, max_depth=3, n_estimators=200;, score=(train=0.867, test=0.842) total time= 1.3min\n"
     ]
    },
    {
     "name": "stderr",
     "output_type": "stream",
     "text": [
      "C:\\Users\\HP\\anaconda3\\lib\\site-packages\\xgboost\\sklearn.py:1395: UserWarning: `use_label_encoder` is deprecated in 1.7.0.\n",
      "  warnings.warn(\"`use_label_encoder` is deprecated in 1.7.0.\")\n"
     ]
    },
    {
     "name": "stdout",
     "output_type": "stream",
     "text": [
      "[CV 1/2] END learning_rate=0.05, max_depth=3, n_estimators=300;, score=(train=0.892, test=0.855) total time= 1.8min\n"
     ]
    },
    {
     "name": "stderr",
     "output_type": "stream",
     "text": [
      "C:\\Users\\HP\\anaconda3\\lib\\site-packages\\xgboost\\sklearn.py:1395: UserWarning: `use_label_encoder` is deprecated in 1.7.0.\n",
      "  warnings.warn(\"`use_label_encoder` is deprecated in 1.7.0.\")\n"
     ]
    },
    {
     "name": "stdout",
     "output_type": "stream",
     "text": [
      "[CV 2/2] END learning_rate=0.05, max_depth=3, n_estimators=300;, score=(train=0.888, test=0.860) total time= 1.8min\n"
     ]
    },
    {
     "name": "stderr",
     "output_type": "stream",
     "text": [
      "C:\\Users\\HP\\anaconda3\\lib\\site-packages\\xgboost\\sklearn.py:1395: UserWarning: `use_label_encoder` is deprecated in 1.7.0.\n",
      "  warnings.warn(\"`use_label_encoder` is deprecated in 1.7.0.\")\n"
     ]
    },
    {
     "name": "stdout",
     "output_type": "stream",
     "text": [
      "[CV 1/2] END learning_rate=0.05, max_depth=5, n_estimators=100;, score=(train=0.881, test=0.825) total time= 1.6min\n"
     ]
    },
    {
     "name": "stderr",
     "output_type": "stream",
     "text": [
      "C:\\Users\\HP\\anaconda3\\lib\\site-packages\\xgboost\\sklearn.py:1395: UserWarning: `use_label_encoder` is deprecated in 1.7.0.\n",
      "  warnings.warn(\"`use_label_encoder` is deprecated in 1.7.0.\")\n"
     ]
    },
    {
     "name": "stdout",
     "output_type": "stream",
     "text": [
      "[CV 2/2] END learning_rate=0.05, max_depth=5, n_estimators=100;, score=(train=0.878, test=0.831) total time=  34.3s\n"
     ]
    },
    {
     "name": "stderr",
     "output_type": "stream",
     "text": [
      "C:\\Users\\HP\\anaconda3\\lib\\site-packages\\xgboost\\sklearn.py:1395: UserWarning: `use_label_encoder` is deprecated in 1.7.0.\n",
      "  warnings.warn(\"`use_label_encoder` is deprecated in 1.7.0.\")\n"
     ]
    },
    {
     "name": "stdout",
     "output_type": "stream",
     "text": [
      "[CV 1/2] END learning_rate=0.05, max_depth=5, n_estimators=200;, score=(train=0.925, test=0.858) total time= 1.1min\n"
     ]
    },
    {
     "name": "stderr",
     "output_type": "stream",
     "text": [
      "C:\\Users\\HP\\anaconda3\\lib\\site-packages\\xgboost\\sklearn.py:1395: UserWarning: `use_label_encoder` is deprecated in 1.7.0.\n",
      "  warnings.warn(\"`use_label_encoder` is deprecated in 1.7.0.\")\n"
     ]
    },
    {
     "name": "stdout",
     "output_type": "stream",
     "text": [
      "[CV 2/2] END learning_rate=0.05, max_depth=5, n_estimators=200;, score=(train=0.922, test=0.861) total time= 1.1min\n"
     ]
    },
    {
     "name": "stderr",
     "output_type": "stream",
     "text": [
      "C:\\Users\\HP\\anaconda3\\lib\\site-packages\\xgboost\\sklearn.py:1395: UserWarning: `use_label_encoder` is deprecated in 1.7.0.\n",
      "  warnings.warn(\"`use_label_encoder` is deprecated in 1.7.0.\")\n"
     ]
    },
    {
     "name": "stdout",
     "output_type": "stream",
     "text": [
      "[CV 1/2] END learning_rate=0.05, max_depth=5, n_estimators=300;, score=(train=0.945, test=0.871) total time= 1.6min\n"
     ]
    },
    {
     "name": "stderr",
     "output_type": "stream",
     "text": [
      "C:\\Users\\HP\\anaconda3\\lib\\site-packages\\xgboost\\sklearn.py:1395: UserWarning: `use_label_encoder` is deprecated in 1.7.0.\n",
      "  warnings.warn(\"`use_label_encoder` is deprecated in 1.7.0.\")\n"
     ]
    },
    {
     "name": "stdout",
     "output_type": "stream",
     "text": [
      "[CV 2/2] END learning_rate=0.05, max_depth=5, n_estimators=300;, score=(train=0.943, test=0.875) total time= 1.6min\n"
     ]
    },
    {
     "name": "stderr",
     "output_type": "stream",
     "text": [
      "C:\\Users\\HP\\anaconda3\\lib\\site-packages\\xgboost\\sklearn.py:1395: UserWarning: `use_label_encoder` is deprecated in 1.7.0.\n",
      "  warnings.warn(\"`use_label_encoder` is deprecated in 1.7.0.\")\n"
     ]
    },
    {
     "name": "stdout",
     "output_type": "stream",
     "text": [
      "[CV 1/2] END learning_rate=1, max_depth=2, n_estimators=100;, score=(train=0.884, test=0.851) total time=  15.8s\n"
     ]
    },
    {
     "name": "stderr",
     "output_type": "stream",
     "text": [
      "C:\\Users\\HP\\anaconda3\\lib\\site-packages\\xgboost\\sklearn.py:1395: UserWarning: `use_label_encoder` is deprecated in 1.7.0.\n",
      "  warnings.warn(\"`use_label_encoder` is deprecated in 1.7.0.\")\n"
     ]
    },
    {
     "name": "stdout",
     "output_type": "stream",
     "text": [
      "[CV 2/2] END learning_rate=1, max_depth=2, n_estimators=100;, score=(train=0.881, test=0.848) total time=  15.7s\n"
     ]
    },
    {
     "name": "stderr",
     "output_type": "stream",
     "text": [
      "C:\\Users\\HP\\anaconda3\\lib\\site-packages\\xgboost\\sklearn.py:1395: UserWarning: `use_label_encoder` is deprecated in 1.7.0.\n",
      "  warnings.warn(\"`use_label_encoder` is deprecated in 1.7.0.\")\n"
     ]
    },
    {
     "name": "stdout",
     "output_type": "stream",
     "text": [
      "[CV 1/2] END learning_rate=1, max_depth=2, n_estimators=200;, score=(train=0.901, test=0.849) total time=  29.9s\n"
     ]
    },
    {
     "name": "stderr",
     "output_type": "stream",
     "text": [
      "C:\\Users\\HP\\anaconda3\\lib\\site-packages\\xgboost\\sklearn.py:1395: UserWarning: `use_label_encoder` is deprecated in 1.7.0.\n",
      "  warnings.warn(\"`use_label_encoder` is deprecated in 1.7.0.\")\n"
     ]
    },
    {
     "name": "stdout",
     "output_type": "stream",
     "text": [
      "[CV 2/2] END learning_rate=1, max_depth=2, n_estimators=200;, score=(train=0.898, test=0.848) total time=  29.8s\n"
     ]
    },
    {
     "name": "stderr",
     "output_type": "stream",
     "text": [
      "C:\\Users\\HP\\anaconda3\\lib\\site-packages\\xgboost\\sklearn.py:1395: UserWarning: `use_label_encoder` is deprecated in 1.7.0.\n",
      "  warnings.warn(\"`use_label_encoder` is deprecated in 1.7.0.\")\n"
     ]
    },
    {
     "name": "stdout",
     "output_type": "stream",
     "text": [
      "[CV 1/2] END learning_rate=1, max_depth=2, n_estimators=300;, score=(train=0.908, test=0.843) total time=  46.8s\n"
     ]
    },
    {
     "name": "stderr",
     "output_type": "stream",
     "text": [
      "C:\\Users\\HP\\anaconda3\\lib\\site-packages\\xgboost\\sklearn.py:1395: UserWarning: `use_label_encoder` is deprecated in 1.7.0.\n",
      "  warnings.warn(\"`use_label_encoder` is deprecated in 1.7.0.\")\n"
     ]
    },
    {
     "name": "stdout",
     "output_type": "stream",
     "text": [
      "[CV 2/2] END learning_rate=1, max_depth=2, n_estimators=300;, score=(train=0.907, test=0.844) total time=  43.6s\n"
     ]
    },
    {
     "name": "stderr",
     "output_type": "stream",
     "text": [
      "C:\\Users\\HP\\anaconda3\\lib\\site-packages\\xgboost\\sklearn.py:1395: UserWarning: `use_label_encoder` is deprecated in 1.7.0.\n",
      "  warnings.warn(\"`use_label_encoder` is deprecated in 1.7.0.\")\n"
     ]
    },
    {
     "name": "stdout",
     "output_type": "stream",
     "text": [
      "[CV 1/2] END learning_rate=1, max_depth=3, n_estimators=100;, score=(train=0.899, test=0.826) total time=  22.1s\n"
     ]
    },
    {
     "name": "stderr",
     "output_type": "stream",
     "text": [
      "C:\\Users\\HP\\anaconda3\\lib\\site-packages\\xgboost\\sklearn.py:1395: UserWarning: `use_label_encoder` is deprecated in 1.7.0.\n",
      "  warnings.warn(\"`use_label_encoder` is deprecated in 1.7.0.\")\n"
     ]
    },
    {
     "name": "stdout",
     "output_type": "stream",
     "text": [
      "[CV 2/2] END learning_rate=1, max_depth=3, n_estimators=100;, score=(train=0.897, test=0.831) total time=  21.3s\n"
     ]
    },
    {
     "name": "stderr",
     "output_type": "stream",
     "text": [
      "C:\\Users\\HP\\anaconda3\\lib\\site-packages\\xgboost\\sklearn.py:1395: UserWarning: `use_label_encoder` is deprecated in 1.7.0.\n",
      "  warnings.warn(\"`use_label_encoder` is deprecated in 1.7.0.\")\n"
     ]
    },
    {
     "name": "stdout",
     "output_type": "stream",
     "text": [
      "[CV 1/2] END learning_rate=1, max_depth=3, n_estimators=200;, score=(train=0.919, test=0.816) total time=  41.1s\n"
     ]
    },
    {
     "name": "stderr",
     "output_type": "stream",
     "text": [
      "C:\\Users\\HP\\anaconda3\\lib\\site-packages\\xgboost\\sklearn.py:1395: UserWarning: `use_label_encoder` is deprecated in 1.7.0.\n",
      "  warnings.warn(\"`use_label_encoder` is deprecated in 1.7.0.\")\n"
     ]
    },
    {
     "name": "stdout",
     "output_type": "stream",
     "text": [
      "[CV 2/2] END learning_rate=1, max_depth=3, n_estimators=200;, score=(train=0.918, test=0.821) total time=  40.9s\n"
     ]
    },
    {
     "name": "stderr",
     "output_type": "stream",
     "text": [
      "C:\\Users\\HP\\anaconda3\\lib\\site-packages\\xgboost\\sklearn.py:1395: UserWarning: `use_label_encoder` is deprecated in 1.7.0.\n",
      "  warnings.warn(\"`use_label_encoder` is deprecated in 1.7.0.\")\n"
     ]
    },
    {
     "name": "stdout",
     "output_type": "stream",
     "text": [
      "[CV 1/2] END learning_rate=1, max_depth=3, n_estimators=300;, score=(train=0.934, test=0.808) total time= 1.0min\n"
     ]
    },
    {
     "name": "stderr",
     "output_type": "stream",
     "text": [
      "C:\\Users\\HP\\anaconda3\\lib\\site-packages\\xgboost\\sklearn.py:1395: UserWarning: `use_label_encoder` is deprecated in 1.7.0.\n",
      "  warnings.warn(\"`use_label_encoder` is deprecated in 1.7.0.\")\n"
     ]
    },
    {
     "name": "stdout",
     "output_type": "stream",
     "text": [
      "[CV 2/2] END learning_rate=1, max_depth=3, n_estimators=300;, score=(train=0.932, test=0.810) total time= 1.0min\n"
     ]
    },
    {
     "name": "stderr",
     "output_type": "stream",
     "text": [
      "C:\\Users\\HP\\anaconda3\\lib\\site-packages\\xgboost\\sklearn.py:1395: UserWarning: `use_label_encoder` is deprecated in 1.7.0.\n",
      "  warnings.warn(\"`use_label_encoder` is deprecated in 1.7.0.\")\n"
     ]
    },
    {
     "name": "stdout",
     "output_type": "stream",
     "text": [
      "[CV 1/2] END learning_rate=1, max_depth=5, n_estimators=100;, score=(train=0.938, test=0.782) total time=  53.4s\n"
     ]
    },
    {
     "name": "stderr",
     "output_type": "stream",
     "text": [
      "C:\\Users\\HP\\anaconda3\\lib\\site-packages\\xgboost\\sklearn.py:1395: UserWarning: `use_label_encoder` is deprecated in 1.7.0.\n",
      "  warnings.warn(\"`use_label_encoder` is deprecated in 1.7.0.\")\n"
     ]
    },
    {
     "name": "stdout",
     "output_type": "stream",
     "text": [
      "[CV 2/2] END learning_rate=1, max_depth=5, n_estimators=100;, score=(train=0.935, test=0.787) total time= 1.0min\n"
     ]
    },
    {
     "name": "stderr",
     "output_type": "stream",
     "text": [
      "C:\\Users\\HP\\anaconda3\\lib\\site-packages\\xgboost\\sklearn.py:1395: UserWarning: `use_label_encoder` is deprecated in 1.7.0.\n",
      "  warnings.warn(\"`use_label_encoder` is deprecated in 1.7.0.\")\n"
     ]
    },
    {
     "name": "stdout",
     "output_type": "stream",
     "text": [
      "[CV 1/2] END learning_rate=1, max_depth=5, n_estimators=200;, score=(train=0.969, test=0.780) total time= 2.7min\n"
     ]
    },
    {
     "name": "stderr",
     "output_type": "stream",
     "text": [
      "C:\\Users\\HP\\anaconda3\\lib\\site-packages\\xgboost\\sklearn.py:1395: UserWarning: `use_label_encoder` is deprecated in 1.7.0.\n",
      "  warnings.warn(\"`use_label_encoder` is deprecated in 1.7.0.\")\n"
     ]
    },
    {
     "name": "stdout",
     "output_type": "stream",
     "text": [
      "[CV 2/2] END learning_rate=1, max_depth=5, n_estimators=200;, score=(train=0.966, test=0.783) total time= 2.2min\n"
     ]
    },
    {
     "name": "stderr",
     "output_type": "stream",
     "text": [
      "C:\\Users\\HP\\anaconda3\\lib\\site-packages\\xgboost\\sklearn.py:1395: UserWarning: `use_label_encoder` is deprecated in 1.7.0.\n",
      "  warnings.warn(\"`use_label_encoder` is deprecated in 1.7.0.\")\n"
     ]
    },
    {
     "name": "stdout",
     "output_type": "stream",
     "text": [
      "[CV 1/2] END learning_rate=1, max_depth=5, n_estimators=300;, score=(train=0.984, test=0.779) total time= 8.2min\n"
     ]
    },
    {
     "name": "stderr",
     "output_type": "stream",
     "text": [
      "C:\\Users\\HP\\anaconda3\\lib\\site-packages\\xgboost\\sklearn.py:1395: UserWarning: `use_label_encoder` is deprecated in 1.7.0.\n",
      "  warnings.warn(\"`use_label_encoder` is deprecated in 1.7.0.\")\n"
     ]
    },
    {
     "name": "stdout",
     "output_type": "stream",
     "text": [
      "[CV 2/2] END learning_rate=1, max_depth=5, n_estimators=300;, score=(train=0.983, test=0.783) total time= 1.6min\n"
     ]
    },
    {
     "name": "stderr",
     "output_type": "stream",
     "text": [
      "C:\\Users\\HP\\anaconda3\\lib\\site-packages\\xgboost\\sklearn.py:1395: UserWarning: `use_label_encoder` is deprecated in 1.7.0.\n",
      "  warnings.warn(\"`use_label_encoder` is deprecated in 1.7.0.\")\n"
     ]
    },
    {
     "data": {
      "text/plain": [
       "GridSearchCV(cv=2,\n",
       "             estimator=XGBClassifier(base_score=None, booster=None,\n",
       "                                     callbacks=None, colsample_bylevel=None,\n",
       "                                     colsample_bynode=None,\n",
       "                                     colsample_bytree=0.25,\n",
       "                                     early_stopping_rounds=None,\n",
       "                                     enable_categorical=False,\n",
       "                                     eval_metric='auc', feature_types=None,\n",
       "                                     gamma=None, gpu_id=None, grow_policy=None,\n",
       "                                     importance_type=None,\n",
       "                                     interaction_constraints=None,\n",
       "                                     learning_rate=None...\n",
       "                                     max_delta_step=None, max_depth=None,\n",
       "                                     max_leaves=None, min_child_weight=None,\n",
       "                                     missing=nan, monotone_constraints=None,\n",
       "                                     n_estimators=100, n_jobs=None,\n",
       "                                     num_parallel_tree=None, predictor=None,\n",
       "                                     random_state=None, ...),\n",
       "             param_grid={'learning_rate': [0.02, 0.05, 1],\n",
       "                         'max_depth': [2, 3, 5],\n",
       "                         'n_estimators': [100, 200, 300]},\n",
       "             return_train_score=True,\n",
       "             scoring=<function my_roc_auc_score at 0x00000225A8D2D280>,\n",
       "             verbose=4)"
      ]
     },
     "execution_count": 12,
     "metadata": {},
     "output_type": "execute_result"
    }
   ],
   "source": [
    "def my_roc_auc_score(model,X,y):\n",
    "    return roc_auc_score(y,model.predict_proba(X)[:,1])\n",
    "\n",
    "model_xgboost_hp=GridSearchCV(estimator=xgboost.XGBClassifier(subsample=0.5,\n",
    "                                                     colsample_bytree=0.25,\n",
    "                                                     eval_metric='auc',\n",
    "                                                     use_label_encoder=False),\n",
    "                              \n",
    "                              param_grid=param_dict,\n",
    "                              cv=2,\n",
    "                              scoring=my_roc_auc_score,\n",
    "                              return_train_score=True,\n",
    "                              verbose=4)\n",
    "\n",
    "model_xgboost_hp.fit(X,y)"
   ]
  },
  {
   "cell_type": "code",
   "execution_count": 13,
   "id": "7ad5458f",
   "metadata": {},
   "outputs": [
    {
     "data": {
      "text/html": [
       "<div>\n",
       "<style scoped>\n",
       "    .dataframe tbody tr th:only-of-type {\n",
       "        vertical-align: middle;\n",
       "    }\n",
       "\n",
       "    .dataframe tbody tr th {\n",
       "        vertical-align: top;\n",
       "    }\n",
       "\n",
       "    .dataframe thead th {\n",
       "        text-align: right;\n",
       "    }\n",
       "</style>\n",
       "<table border=\"1\" class=\"dataframe\">\n",
       "  <thead>\n",
       "    <tr style=\"text-align: right;\">\n",
       "      <th></th>\n",
       "      <th>rank_test_score</th>\n",
       "      <th>mean_test_score</th>\n",
       "      <th>mean_train_score</th>\n",
       "      <th>param_learning_rate</th>\n",
       "      <th>param_max_depth</th>\n",
       "      <th>param_n_estimators</th>\n",
       "    </tr>\n",
       "  </thead>\n",
       "  <tbody>\n",
       "    <tr>\n",
       "      <th>17</th>\n",
       "      <td>1</td>\n",
       "      <td>0.872828</td>\n",
       "      <td>0.944047</td>\n",
       "      <td>0.05</td>\n",
       "      <td>5</td>\n",
       "      <td>300</td>\n",
       "    </tr>\n",
       "    <tr>\n",
       "      <th>16</th>\n",
       "      <td>2</td>\n",
       "      <td>0.859594</td>\n",
       "      <td>0.923165</td>\n",
       "      <td>0.05</td>\n",
       "      <td>5</td>\n",
       "      <td>200</td>\n",
       "    </tr>\n",
       "    <tr>\n",
       "      <th>14</th>\n",
       "      <td>3</td>\n",
       "      <td>0.857778</td>\n",
       "      <td>0.890009</td>\n",
       "      <td>0.05</td>\n",
       "      <td>3</td>\n",
       "      <td>300</td>\n",
       "    </tr>\n",
       "    <tr>\n",
       "      <th>18</th>\n",
       "      <td>4</td>\n",
       "      <td>0.849936</td>\n",
       "      <td>0.882244</td>\n",
       "      <td>1</td>\n",
       "      <td>2</td>\n",
       "      <td>100</td>\n",
       "    </tr>\n",
       "    <tr>\n",
       "      <th>19</th>\n",
       "      <td>5</td>\n",
       "      <td>0.848271</td>\n",
       "      <td>0.899442</td>\n",
       "      <td>1</td>\n",
       "      <td>2</td>\n",
       "      <td>200</td>\n",
       "    </tr>\n",
       "    <tr>\n",
       "      <th>20</th>\n",
       "      <td>6</td>\n",
       "      <td>0.843488</td>\n",
       "      <td>0.907702</td>\n",
       "      <td>1</td>\n",
       "      <td>2</td>\n",
       "      <td>300</td>\n",
       "    </tr>\n",
       "    <tr>\n",
       "      <th>8</th>\n",
       "      <td>7</td>\n",
       "      <td>0.842276</td>\n",
       "      <td>0.897077</td>\n",
       "      <td>0.02</td>\n",
       "      <td>5</td>\n",
       "      <td>300</td>\n",
       "    </tr>\n",
       "    <tr>\n",
       "      <th>11</th>\n",
       "      <td>8</td>\n",
       "      <td>0.841613</td>\n",
       "      <td>0.861223</td>\n",
       "      <td>0.05</td>\n",
       "      <td>2</td>\n",
       "      <td>300</td>\n",
       "    </tr>\n",
       "    <tr>\n",
       "      <th>13</th>\n",
       "      <td>9</td>\n",
       "      <td>0.839263</td>\n",
       "      <td>0.867951</td>\n",
       "      <td>0.05</td>\n",
       "      <td>3</td>\n",
       "      <td>200</td>\n",
       "    </tr>\n",
       "    <tr>\n",
       "      <th>21</th>\n",
       "      <td>10</td>\n",
       "      <td>0.828369</td>\n",
       "      <td>0.897965</td>\n",
       "      <td>1</td>\n",
       "      <td>3</td>\n",
       "      <td>100</td>\n",
       "    </tr>\n",
       "    <tr>\n",
       "      <th>15</th>\n",
       "      <td>11</td>\n",
       "      <td>0.827860</td>\n",
       "      <td>0.879293</td>\n",
       "      <td>0.05</td>\n",
       "      <td>5</td>\n",
       "      <td>100</td>\n",
       "    </tr>\n",
       "    <tr>\n",
       "      <th>7</th>\n",
       "      <td>12</td>\n",
       "      <td>0.824450</td>\n",
       "      <td>0.873529</td>\n",
       "      <td>0.02</td>\n",
       "      <td>5</td>\n",
       "      <td>200</td>\n",
       "    </tr>\n",
       "    <tr>\n",
       "      <th>10</th>\n",
       "      <td>13</td>\n",
       "      <td>0.820519</td>\n",
       "      <td>0.838398</td>\n",
       "      <td>0.05</td>\n",
       "      <td>2</td>\n",
       "      <td>200</td>\n",
       "    </tr>\n",
       "    <tr>\n",
       "      <th>22</th>\n",
       "      <td>14</td>\n",
       "      <td>0.818327</td>\n",
       "      <td>0.918392</td>\n",
       "      <td>1</td>\n",
       "      <td>3</td>\n",
       "      <td>200</td>\n",
       "    </tr>\n",
       "    <tr>\n",
       "      <th>5</th>\n",
       "      <td>15</td>\n",
       "      <td>0.816163</td>\n",
       "      <td>0.840902</td>\n",
       "      <td>0.02</td>\n",
       "      <td>3</td>\n",
       "      <td>300</td>\n",
       "    </tr>\n",
       "    <tr>\n",
       "      <th>23</th>\n",
       "      <td>16</td>\n",
       "      <td>0.809328</td>\n",
       "      <td>0.932907</td>\n",
       "      <td>1</td>\n",
       "      <td>3</td>\n",
       "      <td>300</td>\n",
       "    </tr>\n",
       "    <tr>\n",
       "      <th>12</th>\n",
       "      <td>17</td>\n",
       "      <td>0.802331</td>\n",
       "      <td>0.825779</td>\n",
       "      <td>0.05</td>\n",
       "      <td>3</td>\n",
       "      <td>100</td>\n",
       "    </tr>\n",
       "    <tr>\n",
       "      <th>6</th>\n",
       "      <td>18</td>\n",
       "      <td>0.797033</td>\n",
       "      <td>0.839043</td>\n",
       "      <td>0.02</td>\n",
       "      <td>5</td>\n",
       "      <td>100</td>\n",
       "    </tr>\n",
       "    <tr>\n",
       "      <th>2</th>\n",
       "      <td>19</td>\n",
       "      <td>0.794952</td>\n",
       "      <td>0.810374</td>\n",
       "      <td>0.02</td>\n",
       "      <td>2</td>\n",
       "      <td>300</td>\n",
       "    </tr>\n",
       "    <tr>\n",
       "      <th>4</th>\n",
       "      <td>20</td>\n",
       "      <td>0.794758</td>\n",
       "      <td>0.816892</td>\n",
       "      <td>0.02</td>\n",
       "      <td>3</td>\n",
       "      <td>200</td>\n",
       "    </tr>\n",
       "    <tr>\n",
       "      <th>24</th>\n",
       "      <td>21</td>\n",
       "      <td>0.784311</td>\n",
       "      <td>0.936744</td>\n",
       "      <td>1</td>\n",
       "      <td>5</td>\n",
       "      <td>100</td>\n",
       "    </tr>\n",
       "    <tr>\n",
       "      <th>25</th>\n",
       "      <td>22</td>\n",
       "      <td>0.781657</td>\n",
       "      <td>0.967672</td>\n",
       "      <td>1</td>\n",
       "      <td>5</td>\n",
       "      <td>200</td>\n",
       "    </tr>\n",
       "    <tr>\n",
       "      <th>26</th>\n",
       "      <td>23</td>\n",
       "      <td>0.781066</td>\n",
       "      <td>0.983836</td>\n",
       "      <td>1</td>\n",
       "      <td>5</td>\n",
       "      <td>300</td>\n",
       "    </tr>\n",
       "    <tr>\n",
       "      <th>9</th>\n",
       "      <td>24</td>\n",
       "      <td>0.778806</td>\n",
       "      <td>0.793778</td>\n",
       "      <td>0.05</td>\n",
       "      <td>2</td>\n",
       "      <td>100</td>\n",
       "    </tr>\n",
       "    <tr>\n",
       "      <th>1</th>\n",
       "      <td>25</td>\n",
       "      <td>0.770214</td>\n",
       "      <td>0.784129</td>\n",
       "      <td>0.02</td>\n",
       "      <td>2</td>\n",
       "      <td>200</td>\n",
       "    </tr>\n",
       "    <tr>\n",
       "      <th>3</th>\n",
       "      <td>26</td>\n",
       "      <td>0.759664</td>\n",
       "      <td>0.778617</td>\n",
       "      <td>0.02</td>\n",
       "      <td>3</td>\n",
       "      <td>100</td>\n",
       "    </tr>\n",
       "    <tr>\n",
       "      <th>0</th>\n",
       "      <td>27</td>\n",
       "      <td>0.729696</td>\n",
       "      <td>0.741540</td>\n",
       "      <td>0.02</td>\n",
       "      <td>2</td>\n",
       "      <td>100</td>\n",
       "    </tr>\n",
       "  </tbody>\n",
       "</table>\n",
       "</div>"
      ],
      "text/plain": [
       "    rank_test_score  mean_test_score  mean_train_score param_learning_rate  \\\n",
       "17                1         0.872828          0.944047                0.05   \n",
       "16                2         0.859594          0.923165                0.05   \n",
       "14                3         0.857778          0.890009                0.05   \n",
       "18                4         0.849936          0.882244                   1   \n",
       "19                5         0.848271          0.899442                   1   \n",
       "20                6         0.843488          0.907702                   1   \n",
       "8                 7         0.842276          0.897077                0.02   \n",
       "11                8         0.841613          0.861223                0.05   \n",
       "13                9         0.839263          0.867951                0.05   \n",
       "21               10         0.828369          0.897965                   1   \n",
       "15               11         0.827860          0.879293                0.05   \n",
       "7                12         0.824450          0.873529                0.02   \n",
       "10               13         0.820519          0.838398                0.05   \n",
       "22               14         0.818327          0.918392                   1   \n",
       "5                15         0.816163          0.840902                0.02   \n",
       "23               16         0.809328          0.932907                   1   \n",
       "12               17         0.802331          0.825779                0.05   \n",
       "6                18         0.797033          0.839043                0.02   \n",
       "2                19         0.794952          0.810374                0.02   \n",
       "4                20         0.794758          0.816892                0.02   \n",
       "24               21         0.784311          0.936744                   1   \n",
       "25               22         0.781657          0.967672                   1   \n",
       "26               23         0.781066          0.983836                   1   \n",
       "9                24         0.778806          0.793778                0.05   \n",
       "1                25         0.770214          0.784129                0.02   \n",
       "3                26         0.759664          0.778617                0.02   \n",
       "0                27         0.729696          0.741540                0.02   \n",
       "\n",
       "   param_max_depth param_n_estimators  \n",
       "17               5                300  \n",
       "16               5                200  \n",
       "14               3                300  \n",
       "18               2                100  \n",
       "19               2                200  \n",
       "20               2                300  \n",
       "8                5                300  \n",
       "11               2                300  \n",
       "13               3                200  \n",
       "21               3                100  \n",
       "15               5                100  \n",
       "7                5                200  \n",
       "10               2                200  \n",
       "22               3                200  \n",
       "5                3                300  \n",
       "23               3                300  \n",
       "12               3                100  \n",
       "6                5                100  \n",
       "2                2                300  \n",
       "4                3                200  \n",
       "24               5                100  \n",
       "25               5                200  \n",
       "26               5                300  \n",
       "9                2                100  \n",
       "1                2                200  \n",
       "3                3                100  \n",
       "0                2                100  "
      ]
     },
     "execution_count": 13,
     "metadata": {},
     "output_type": "execute_result"
    }
   ],
   "source": [
    "df_cv_result=pd.DataFrame(model_xgboost_hp.cv_results_)\n",
    "df_cv_result=df_cv_result[['rank_test_score','mean_test_score','mean_train_score',\n",
    "                          'param_learning_rate','param_max_depth','param_n_estimators']]\n",
    "df_cv_result.sort_values(by='rank_test_score',inplace=True)\n",
    "df_cv_result"
   ]
  },
  {
   "cell_type": "code",
   "execution_count": 14,
   "id": "439be2de",
   "metadata": {},
   "outputs": [
    {
     "name": "stderr",
     "output_type": "stream",
     "text": [
      "C:\\Users\\HP\\anaconda3\\lib\\site-packages\\xgboost\\sklearn.py:1395: UserWarning: `use_label_encoder` is deprecated in 1.7.0.\n",
      "  warnings.warn(\"`use_label_encoder` is deprecated in 1.7.0.\")\n",
      "C:\\Users\\HP\\anaconda3\\lib\\site-packages\\xgboost\\sklearn.py:835: UserWarning: `early_stopping_rounds` in `fit` method is deprecated for better compatibility with scikit-learn, use `early_stopping_rounds` in constructor or`set_params` instead.\n",
      "  warnings.warn(\n"
     ]
    },
    {
     "name": "stdout",
     "output_type": "stream",
     "text": [
      "[0]\tvalidation_0-auc:0.58916\tvalidation_1-auc:0.58479\n",
      "[1]\tvalidation_0-auc:0.64283\tvalidation_1-auc:0.63553\n",
      "[2]\tvalidation_0-auc:0.68142\tvalidation_1-auc:0.66971\n",
      "[3]\tvalidation_0-auc:0.71855\tvalidation_1-auc:0.70756\n",
      "[4]\tvalidation_0-auc:0.73381\tvalidation_1-auc:0.72501\n",
      "[5]\tvalidation_0-auc:0.74216\tvalidation_1-auc:0.73169\n",
      "[6]\tvalidation_0-auc:0.74848\tvalidation_1-auc:0.73600\n",
      "[7]\tvalidation_0-auc:0.75275\tvalidation_1-auc:0.73839\n",
      "[8]\tvalidation_0-auc:0.76101\tvalidation_1-auc:0.74517\n",
      "[9]\tvalidation_0-auc:0.76625\tvalidation_1-auc:0.74928\n",
      "[10]\tvalidation_0-auc:0.76515\tvalidation_1-auc:0.74828\n",
      "[11]\tvalidation_0-auc:0.76869\tvalidation_1-auc:0.75264\n",
      "[12]\tvalidation_0-auc:0.77302\tvalidation_1-auc:0.75566\n",
      "[13]\tvalidation_0-auc:0.78027\tvalidation_1-auc:0.76260\n",
      "[14]\tvalidation_0-auc:0.78134\tvalidation_1-auc:0.76278\n",
      "[15]\tvalidation_0-auc:0.78235\tvalidation_1-auc:0.76526\n",
      "[16]\tvalidation_0-auc:0.78628\tvalidation_1-auc:0.76879\n",
      "[17]\tvalidation_0-auc:0.79005\tvalidation_1-auc:0.77132\n",
      "[18]\tvalidation_0-auc:0.79299\tvalidation_1-auc:0.77394\n",
      "[19]\tvalidation_0-auc:0.79256\tvalidation_1-auc:0.77241\n",
      "[20]\tvalidation_0-auc:0.79181\tvalidation_1-auc:0.76961\n",
      "[21]\tvalidation_0-auc:0.79503\tvalidation_1-auc:0.77279\n",
      "[22]\tvalidation_0-auc:0.79826\tvalidation_1-auc:0.77555\n",
      "[23]\tvalidation_0-auc:0.79559\tvalidation_1-auc:0.77286\n",
      "[24]\tvalidation_0-auc:0.79765\tvalidation_1-auc:0.77423\n",
      "[25]\tvalidation_0-auc:0.79998\tvalidation_1-auc:0.77720\n",
      "[26]\tvalidation_0-auc:0.79973\tvalidation_1-auc:0.77674\n",
      "[27]\tvalidation_0-auc:0.79967\tvalidation_1-auc:0.77658\n",
      "[28]\tvalidation_0-auc:0.80294\tvalidation_1-auc:0.77948\n",
      "[29]\tvalidation_0-auc:0.80629\tvalidation_1-auc:0.78122\n",
      "[30]\tvalidation_0-auc:0.80865\tvalidation_1-auc:0.78439\n",
      "[31]\tvalidation_0-auc:0.80918\tvalidation_1-auc:0.78486\n",
      "[32]\tvalidation_0-auc:0.81183\tvalidation_1-auc:0.78699\n",
      "[33]\tvalidation_0-auc:0.81443\tvalidation_1-auc:0.78905\n",
      "[34]\tvalidation_0-auc:0.81552\tvalidation_1-auc:0.79054\n",
      "[35]\tvalidation_0-auc:0.81663\tvalidation_1-auc:0.79137\n",
      "[36]\tvalidation_0-auc:0.81749\tvalidation_1-auc:0.79208\n",
      "[37]\tvalidation_0-auc:0.81703\tvalidation_1-auc:0.79168\n",
      "[38]\tvalidation_0-auc:0.81659\tvalidation_1-auc:0.79115\n",
      "[39]\tvalidation_0-auc:0.81807\tvalidation_1-auc:0.79323\n",
      "[40]\tvalidation_0-auc:0.81941\tvalidation_1-auc:0.79440\n",
      "[41]\tvalidation_0-auc:0.81902\tvalidation_1-auc:0.79447\n",
      "[42]\tvalidation_0-auc:0.81854\tvalidation_1-auc:0.79420\n",
      "[43]\tvalidation_0-auc:0.81946\tvalidation_1-auc:0.79524\n",
      "[44]\tvalidation_0-auc:0.82062\tvalidation_1-auc:0.79650\n",
      "[45]\tvalidation_0-auc:0.82273\tvalidation_1-auc:0.79879\n",
      "[46]\tvalidation_0-auc:0.82297\tvalidation_1-auc:0.79917\n",
      "[47]\tvalidation_0-auc:0.82266\tvalidation_1-auc:0.79918\n",
      "[48]\tvalidation_0-auc:0.82258\tvalidation_1-auc:0.79900\n",
      "[49]\tvalidation_0-auc:0.82355\tvalidation_1-auc:0.79964\n",
      "[50]\tvalidation_0-auc:0.82497\tvalidation_1-auc:0.80041\n",
      "[51]\tvalidation_0-auc:0.82494\tvalidation_1-auc:0.80010\n",
      "[52]\tvalidation_0-auc:0.82639\tvalidation_1-auc:0.80099\n",
      "[53]\tvalidation_0-auc:0.82724\tvalidation_1-auc:0.80124\n",
      "[54]\tvalidation_0-auc:0.82805\tvalidation_1-auc:0.80174\n",
      "[55]\tvalidation_0-auc:0.82896\tvalidation_1-auc:0.80289\n",
      "[56]\tvalidation_0-auc:0.82954\tvalidation_1-auc:0.80293\n",
      "[57]\tvalidation_0-auc:0.83014\tvalidation_1-auc:0.80393\n",
      "[58]\tvalidation_0-auc:0.83174\tvalidation_1-auc:0.80480\n",
      "[59]\tvalidation_0-auc:0.83292\tvalidation_1-auc:0.80603\n",
      "[60]\tvalidation_0-auc:0.83459\tvalidation_1-auc:0.80755\n",
      "[61]\tvalidation_0-auc:0.83567\tvalidation_1-auc:0.80788\n",
      "[62]\tvalidation_0-auc:0.83622\tvalidation_1-auc:0.80856\n",
      "[63]\tvalidation_0-auc:0.83774\tvalidation_1-auc:0.80978\n",
      "[64]\tvalidation_0-auc:0.83821\tvalidation_1-auc:0.81006\n",
      "[65]\tvalidation_0-auc:0.83940\tvalidation_1-auc:0.81123\n",
      "[66]\tvalidation_0-auc:0.83989\tvalidation_1-auc:0.81158\n",
      "[67]\tvalidation_0-auc:0.84034\tvalidation_1-auc:0.81213\n",
      "[68]\tvalidation_0-auc:0.84171\tvalidation_1-auc:0.81309\n",
      "[69]\tvalidation_0-auc:0.84283\tvalidation_1-auc:0.81360\n",
      "[70]\tvalidation_0-auc:0.84303\tvalidation_1-auc:0.81390\n",
      "[71]\tvalidation_0-auc:0.84388\tvalidation_1-auc:0.81444\n",
      "[72]\tvalidation_0-auc:0.84498\tvalidation_1-auc:0.81567\n",
      "[73]\tvalidation_0-auc:0.84476\tvalidation_1-auc:0.81555\n",
      "[74]\tvalidation_0-auc:0.84432\tvalidation_1-auc:0.81485\n",
      "[75]\tvalidation_0-auc:0.84484\tvalidation_1-auc:0.81519\n",
      "[76]\tvalidation_0-auc:0.84548\tvalidation_1-auc:0.81558\n",
      "[77]\tvalidation_0-auc:0.84646\tvalidation_1-auc:0.81586\n",
      "[78]\tvalidation_0-auc:0.84760\tvalidation_1-auc:0.81701\n",
      "[79]\tvalidation_0-auc:0.84863\tvalidation_1-auc:0.81779\n",
      "[80]\tvalidation_0-auc:0.84992\tvalidation_1-auc:0.81885\n",
      "[81]\tvalidation_0-auc:0.85092\tvalidation_1-auc:0.81956\n",
      "[82]\tvalidation_0-auc:0.85251\tvalidation_1-auc:0.82075\n",
      "[83]\tvalidation_0-auc:0.85334\tvalidation_1-auc:0.82167\n",
      "[84]\tvalidation_0-auc:0.85454\tvalidation_1-auc:0.82250\n",
      "[85]\tvalidation_0-auc:0.85479\tvalidation_1-auc:0.82246\n",
      "[86]\tvalidation_0-auc:0.85564\tvalidation_1-auc:0.82307\n",
      "[87]\tvalidation_0-auc:0.85614\tvalidation_1-auc:0.82344\n",
      "[88]\tvalidation_0-auc:0.85707\tvalidation_1-auc:0.82400\n",
      "[89]\tvalidation_0-auc:0.85789\tvalidation_1-auc:0.82454\n",
      "[90]\tvalidation_0-auc:0.85819\tvalidation_1-auc:0.82469\n",
      "[91]\tvalidation_0-auc:0.85887\tvalidation_1-auc:0.82549\n",
      "[92]\tvalidation_0-auc:0.85945\tvalidation_1-auc:0.82600\n",
      "[93]\tvalidation_0-auc:0.85965\tvalidation_1-auc:0.82640\n",
      "[94]\tvalidation_0-auc:0.86020\tvalidation_1-auc:0.82640\n",
      "[95]\tvalidation_0-auc:0.86106\tvalidation_1-auc:0.82716\n",
      "[96]\tvalidation_0-auc:0.86199\tvalidation_1-auc:0.82778\n",
      "[97]\tvalidation_0-auc:0.86231\tvalidation_1-auc:0.82805\n",
      "[98]\tvalidation_0-auc:0.86283\tvalidation_1-auc:0.82879\n",
      "[99]\tvalidation_0-auc:0.86357\tvalidation_1-auc:0.82949\n",
      "[100]\tvalidation_0-auc:0.86397\tvalidation_1-auc:0.82951\n",
      "[101]\tvalidation_0-auc:0.86446\tvalidation_1-auc:0.83013\n",
      "[102]\tvalidation_0-auc:0.86463\tvalidation_1-auc:0.83028\n",
      "[103]\tvalidation_0-auc:0.86518\tvalidation_1-auc:0.83090\n",
      "[104]\tvalidation_0-auc:0.86581\tvalidation_1-auc:0.83165\n",
      "[105]\tvalidation_0-auc:0.86641\tvalidation_1-auc:0.83216\n",
      "[106]\tvalidation_0-auc:0.86686\tvalidation_1-auc:0.83267\n",
      "[107]\tvalidation_0-auc:0.86782\tvalidation_1-auc:0.83356\n",
      "[108]\tvalidation_0-auc:0.86844\tvalidation_1-auc:0.83390\n",
      "[109]\tvalidation_0-auc:0.86889\tvalidation_1-auc:0.83421\n",
      "[110]\tvalidation_0-auc:0.86979\tvalidation_1-auc:0.83501\n",
      "[111]\tvalidation_0-auc:0.87007\tvalidation_1-auc:0.83516\n",
      "[112]\tvalidation_0-auc:0.87063\tvalidation_1-auc:0.83543\n",
      "[113]\tvalidation_0-auc:0.87130\tvalidation_1-auc:0.83624\n",
      "[114]\tvalidation_0-auc:0.87161\tvalidation_1-auc:0.83624\n",
      "[115]\tvalidation_0-auc:0.87239\tvalidation_1-auc:0.83694\n",
      "[116]\tvalidation_0-auc:0.87271\tvalidation_1-auc:0.83714\n",
      "[117]\tvalidation_0-auc:0.87357\tvalidation_1-auc:0.83774\n",
      "[118]\tvalidation_0-auc:0.87384\tvalidation_1-auc:0.83809\n",
      "[119]\tvalidation_0-auc:0.87440\tvalidation_1-auc:0.83836\n",
      "[120]\tvalidation_0-auc:0.87496\tvalidation_1-auc:0.83890\n",
      "[121]\tvalidation_0-auc:0.87542\tvalidation_1-auc:0.83918\n",
      "[122]\tvalidation_0-auc:0.87575\tvalidation_1-auc:0.83965\n",
      "[123]\tvalidation_0-auc:0.87639\tvalidation_1-auc:0.83983\n",
      "[124]\tvalidation_0-auc:0.87701\tvalidation_1-auc:0.84073\n",
      "[125]\tvalidation_0-auc:0.87739\tvalidation_1-auc:0.84089\n",
      "[126]\tvalidation_0-auc:0.87814\tvalidation_1-auc:0.84157\n",
      "[127]\tvalidation_0-auc:0.87850\tvalidation_1-auc:0.84201\n",
      "[128]\tvalidation_0-auc:0.87892\tvalidation_1-auc:0.84254\n",
      "[129]\tvalidation_0-auc:0.87933\tvalidation_1-auc:0.84280\n",
      "[130]\tvalidation_0-auc:0.87970\tvalidation_1-auc:0.84298\n",
      "[131]\tvalidation_0-auc:0.88021\tvalidation_1-auc:0.84336\n",
      "[132]\tvalidation_0-auc:0.88063\tvalidation_1-auc:0.84355\n",
      "[133]\tvalidation_0-auc:0.88129\tvalidation_1-auc:0.84391\n",
      "[134]\tvalidation_0-auc:0.88176\tvalidation_1-auc:0.84443\n",
      "[135]\tvalidation_0-auc:0.88228\tvalidation_1-auc:0.84468\n",
      "[136]\tvalidation_0-auc:0.88272\tvalidation_1-auc:0.84492\n",
      "[137]\tvalidation_0-auc:0.88333\tvalidation_1-auc:0.84529\n",
      "[138]\tvalidation_0-auc:0.88380\tvalidation_1-auc:0.84571\n",
      "[139]\tvalidation_0-auc:0.88419\tvalidation_1-auc:0.84610\n",
      "[140]\tvalidation_0-auc:0.88478\tvalidation_1-auc:0.84647\n",
      "[141]\tvalidation_0-auc:0.88548\tvalidation_1-auc:0.84696\n",
      "[142]\tvalidation_0-auc:0.88580\tvalidation_1-auc:0.84725\n",
      "[143]\tvalidation_0-auc:0.88605\tvalidation_1-auc:0.84753\n",
      "[144]\tvalidation_0-auc:0.88642\tvalidation_1-auc:0.84788\n",
      "[145]\tvalidation_0-auc:0.88695\tvalidation_1-auc:0.84856\n",
      "[146]\tvalidation_0-auc:0.88733\tvalidation_1-auc:0.84871\n",
      "[147]\tvalidation_0-auc:0.88791\tvalidation_1-auc:0.84909\n",
      "[148]\tvalidation_0-auc:0.88827\tvalidation_1-auc:0.84918\n"
     ]
    },
    {
     "name": "stdout",
     "output_type": "stream",
     "text": [
      "[149]\tvalidation_0-auc:0.88845\tvalidation_1-auc:0.84911\n",
      "[150]\tvalidation_0-auc:0.88881\tvalidation_1-auc:0.84929\n",
      "[151]\tvalidation_0-auc:0.88907\tvalidation_1-auc:0.84958\n",
      "[152]\tvalidation_0-auc:0.88948\tvalidation_1-auc:0.84998\n",
      "[153]\tvalidation_0-auc:0.88997\tvalidation_1-auc:0.85040\n",
      "[154]\tvalidation_0-auc:0.89044\tvalidation_1-auc:0.85077\n",
      "[155]\tvalidation_0-auc:0.89105\tvalidation_1-auc:0.85111\n",
      "[156]\tvalidation_0-auc:0.89161\tvalidation_1-auc:0.85150\n",
      "[157]\tvalidation_0-auc:0.89187\tvalidation_1-auc:0.85161\n",
      "[158]\tvalidation_0-auc:0.89236\tvalidation_1-auc:0.85210\n",
      "[159]\tvalidation_0-auc:0.89277\tvalidation_1-auc:0.85234\n",
      "[160]\tvalidation_0-auc:0.89309\tvalidation_1-auc:0.85274\n",
      "[161]\tvalidation_0-auc:0.89330\tvalidation_1-auc:0.85286\n",
      "[162]\tvalidation_0-auc:0.89325\tvalidation_1-auc:0.85254\n",
      "[163]\tvalidation_0-auc:0.89371\tvalidation_1-auc:0.85274\n",
      "[164]\tvalidation_0-auc:0.89386\tvalidation_1-auc:0.85289\n",
      "[165]\tvalidation_0-auc:0.89430\tvalidation_1-auc:0.85326\n",
      "[166]\tvalidation_0-auc:0.89473\tvalidation_1-auc:0.85351\n",
      "[167]\tvalidation_0-auc:0.89520\tvalidation_1-auc:0.85397\n",
      "[168]\tvalidation_0-auc:0.89573\tvalidation_1-auc:0.85435\n",
      "[169]\tvalidation_0-auc:0.89592\tvalidation_1-auc:0.85450\n",
      "[170]\tvalidation_0-auc:0.89620\tvalidation_1-auc:0.85472\n",
      "[171]\tvalidation_0-auc:0.89660\tvalidation_1-auc:0.85509\n",
      "[172]\tvalidation_0-auc:0.89698\tvalidation_1-auc:0.85546\n",
      "[173]\tvalidation_0-auc:0.89712\tvalidation_1-auc:0.85561\n",
      "[174]\tvalidation_0-auc:0.89723\tvalidation_1-auc:0.85583\n",
      "[175]\tvalidation_0-auc:0.89766\tvalidation_1-auc:0.85607\n",
      "[176]\tvalidation_0-auc:0.89800\tvalidation_1-auc:0.85643\n",
      "[177]\tvalidation_0-auc:0.89844\tvalidation_1-auc:0.85660\n",
      "[178]\tvalidation_0-auc:0.89878\tvalidation_1-auc:0.85700\n",
      "[179]\tvalidation_0-auc:0.89910\tvalidation_1-auc:0.85713\n",
      "[180]\tvalidation_0-auc:0.89923\tvalidation_1-auc:0.85720\n",
      "[181]\tvalidation_0-auc:0.89967\tvalidation_1-auc:0.85775\n",
      "[182]\tvalidation_0-auc:0.89996\tvalidation_1-auc:0.85790\n",
      "[183]\tvalidation_0-auc:0.90059\tvalidation_1-auc:0.85843\n",
      "[184]\tvalidation_0-auc:0.90087\tvalidation_1-auc:0.85861\n",
      "[185]\tvalidation_0-auc:0.90138\tvalidation_1-auc:0.85911\n",
      "[186]\tvalidation_0-auc:0.90183\tvalidation_1-auc:0.85956\n",
      "[187]\tvalidation_0-auc:0.90209\tvalidation_1-auc:0.85975\n",
      "[188]\tvalidation_0-auc:0.90236\tvalidation_1-auc:0.86017\n",
      "[189]\tvalidation_0-auc:0.90279\tvalidation_1-auc:0.86053\n",
      "[190]\tvalidation_0-auc:0.90316\tvalidation_1-auc:0.86076\n",
      "[191]\tvalidation_0-auc:0.90342\tvalidation_1-auc:0.86084\n",
      "[192]\tvalidation_0-auc:0.90368\tvalidation_1-auc:0.86079\n",
      "[193]\tvalidation_0-auc:0.90385\tvalidation_1-auc:0.86090\n",
      "[194]\tvalidation_0-auc:0.90427\tvalidation_1-auc:0.86101\n",
      "[195]\tvalidation_0-auc:0.90459\tvalidation_1-auc:0.86123\n",
      "[196]\tvalidation_0-auc:0.90486\tvalidation_1-auc:0.86142\n",
      "[197]\tvalidation_0-auc:0.90517\tvalidation_1-auc:0.86159\n",
      "[198]\tvalidation_0-auc:0.90549\tvalidation_1-auc:0.86198\n",
      "[199]\tvalidation_0-auc:0.90563\tvalidation_1-auc:0.86212\n",
      "[200]\tvalidation_0-auc:0.90582\tvalidation_1-auc:0.86233\n",
      "[201]\tvalidation_0-auc:0.90601\tvalidation_1-auc:0.86249\n",
      "[202]\tvalidation_0-auc:0.90637\tvalidation_1-auc:0.86276\n",
      "[203]\tvalidation_0-auc:0.90658\tvalidation_1-auc:0.86286\n",
      "[204]\tvalidation_0-auc:0.90692\tvalidation_1-auc:0.86307\n",
      "[205]\tvalidation_0-auc:0.90716\tvalidation_1-auc:0.86322\n",
      "[206]\tvalidation_0-auc:0.90744\tvalidation_1-auc:0.86342\n",
      "[207]\tvalidation_0-auc:0.90768\tvalidation_1-auc:0.86346\n",
      "[208]\tvalidation_0-auc:0.90792\tvalidation_1-auc:0.86363\n",
      "[209]\tvalidation_0-auc:0.90818\tvalidation_1-auc:0.86363\n",
      "[210]\tvalidation_0-auc:0.90849\tvalidation_1-auc:0.86390\n",
      "[211]\tvalidation_0-auc:0.90884\tvalidation_1-auc:0.86410\n",
      "[212]\tvalidation_0-auc:0.90922\tvalidation_1-auc:0.86443\n",
      "[213]\tvalidation_0-auc:0.90947\tvalidation_1-auc:0.86455\n",
      "[214]\tvalidation_0-auc:0.90972\tvalidation_1-auc:0.86479\n",
      "[215]\tvalidation_0-auc:0.90999\tvalidation_1-auc:0.86508\n",
      "[216]\tvalidation_0-auc:0.91018\tvalidation_1-auc:0.86530\n",
      "[217]\tvalidation_0-auc:0.91040\tvalidation_1-auc:0.86551\n",
      "[218]\tvalidation_0-auc:0.91076\tvalidation_1-auc:0.86583\n",
      "[219]\tvalidation_0-auc:0.91098\tvalidation_1-auc:0.86606\n",
      "[220]\tvalidation_0-auc:0.91124\tvalidation_1-auc:0.86630\n",
      "[221]\tvalidation_0-auc:0.91148\tvalidation_1-auc:0.86651\n",
      "[222]\tvalidation_0-auc:0.91167\tvalidation_1-auc:0.86664\n",
      "[223]\tvalidation_0-auc:0.91186\tvalidation_1-auc:0.86680\n",
      "[224]\tvalidation_0-auc:0.91210\tvalidation_1-auc:0.86691\n",
      "[225]\tvalidation_0-auc:0.91240\tvalidation_1-auc:0.86714\n",
      "[226]\tvalidation_0-auc:0.91257\tvalidation_1-auc:0.86717\n",
      "[227]\tvalidation_0-auc:0.91273\tvalidation_1-auc:0.86730\n",
      "[228]\tvalidation_0-auc:0.91296\tvalidation_1-auc:0.86750\n",
      "[229]\tvalidation_0-auc:0.91311\tvalidation_1-auc:0.86759\n",
      "[230]\tvalidation_0-auc:0.91326\tvalidation_1-auc:0.86765\n",
      "[231]\tvalidation_0-auc:0.91343\tvalidation_1-auc:0.86780\n",
      "[232]\tvalidation_0-auc:0.91370\tvalidation_1-auc:0.86799\n",
      "[233]\tvalidation_0-auc:0.91401\tvalidation_1-auc:0.86818\n",
      "[234]\tvalidation_0-auc:0.91416\tvalidation_1-auc:0.86823\n",
      "[235]\tvalidation_0-auc:0.91438\tvalidation_1-auc:0.86840\n",
      "[236]\tvalidation_0-auc:0.91458\tvalidation_1-auc:0.86852\n",
      "[237]\tvalidation_0-auc:0.91480\tvalidation_1-auc:0.86882\n",
      "[238]\tvalidation_0-auc:0.91500\tvalidation_1-auc:0.86881\n",
      "[239]\tvalidation_0-auc:0.91524\tvalidation_1-auc:0.86900\n",
      "[240]\tvalidation_0-auc:0.91544\tvalidation_1-auc:0.86906\n",
      "[241]\tvalidation_0-auc:0.91570\tvalidation_1-auc:0.86918\n",
      "[242]\tvalidation_0-auc:0.91601\tvalidation_1-auc:0.86943\n",
      "[243]\tvalidation_0-auc:0.91630\tvalidation_1-auc:0.86961\n",
      "[244]\tvalidation_0-auc:0.91643\tvalidation_1-auc:0.86962\n",
      "[245]\tvalidation_0-auc:0.91652\tvalidation_1-auc:0.86969\n",
      "[246]\tvalidation_0-auc:0.91669\tvalidation_1-auc:0.86992\n",
      "[247]\tvalidation_0-auc:0.91686\tvalidation_1-auc:0.86997\n",
      "[248]\tvalidation_0-auc:0.91700\tvalidation_1-auc:0.87002\n",
      "[249]\tvalidation_0-auc:0.91719\tvalidation_1-auc:0.87011\n",
      "[250]\tvalidation_0-auc:0.91739\tvalidation_1-auc:0.87022\n",
      "[251]\tvalidation_0-auc:0.91747\tvalidation_1-auc:0.87019\n",
      "[252]\tvalidation_0-auc:0.91745\tvalidation_1-auc:0.87016\n",
      "[253]\tvalidation_0-auc:0.91767\tvalidation_1-auc:0.87034\n",
      "[254]\tvalidation_0-auc:0.91785\tvalidation_1-auc:0.87055\n",
      "[255]\tvalidation_0-auc:0.91807\tvalidation_1-auc:0.87063\n",
      "[256]\tvalidation_0-auc:0.91834\tvalidation_1-auc:0.87075\n",
      "[257]\tvalidation_0-auc:0.91851\tvalidation_1-auc:0.87075\n",
      "[258]\tvalidation_0-auc:0.91868\tvalidation_1-auc:0.87090\n",
      "[259]\tvalidation_0-auc:0.91893\tvalidation_1-auc:0.87097\n",
      "[260]\tvalidation_0-auc:0.91917\tvalidation_1-auc:0.87118\n",
      "[261]\tvalidation_0-auc:0.91932\tvalidation_1-auc:0.87129\n",
      "[262]\tvalidation_0-auc:0.91942\tvalidation_1-auc:0.87137\n",
      "[263]\tvalidation_0-auc:0.91968\tvalidation_1-auc:0.87158\n",
      "[264]\tvalidation_0-auc:0.91995\tvalidation_1-auc:0.87181\n",
      "[265]\tvalidation_0-auc:0.92014\tvalidation_1-auc:0.87204\n",
      "[266]\tvalidation_0-auc:0.92032\tvalidation_1-auc:0.87217\n",
      "[267]\tvalidation_0-auc:0.92060\tvalidation_1-auc:0.87239\n",
      "[268]\tvalidation_0-auc:0.92085\tvalidation_1-auc:0.87258\n",
      "[269]\tvalidation_0-auc:0.92099\tvalidation_1-auc:0.87272\n",
      "[270]\tvalidation_0-auc:0.92126\tvalidation_1-auc:0.87292\n",
      "[271]\tvalidation_0-auc:0.92141\tvalidation_1-auc:0.87304\n",
      "[272]\tvalidation_0-auc:0.92150\tvalidation_1-auc:0.87304\n",
      "[273]\tvalidation_0-auc:0.92159\tvalidation_1-auc:0.87308\n",
      "[274]\tvalidation_0-auc:0.92187\tvalidation_1-auc:0.87323\n",
      "[275]\tvalidation_0-auc:0.92209\tvalidation_1-auc:0.87345\n",
      "[276]\tvalidation_0-auc:0.92221\tvalidation_1-auc:0.87350\n",
      "[277]\tvalidation_0-auc:0.92234\tvalidation_1-auc:0.87361\n",
      "[278]\tvalidation_0-auc:0.92246\tvalidation_1-auc:0.87363\n",
      "[279]\tvalidation_0-auc:0.92254\tvalidation_1-auc:0.87375\n",
      "[280]\tvalidation_0-auc:0.92270\tvalidation_1-auc:0.87379\n",
      "[281]\tvalidation_0-auc:0.92288\tvalidation_1-auc:0.87398\n",
      "[282]\tvalidation_0-auc:0.92297\tvalidation_1-auc:0.87403\n",
      "[283]\tvalidation_0-auc:0.92319\tvalidation_1-auc:0.87419\n",
      "[284]\tvalidation_0-auc:0.92340\tvalidation_1-auc:0.87433\n",
      "[285]\tvalidation_0-auc:0.92351\tvalidation_1-auc:0.87443\n",
      "[286]\tvalidation_0-auc:0.92366\tvalidation_1-auc:0.87442\n",
      "[287]\tvalidation_0-auc:0.92379\tvalidation_1-auc:0.87445\n",
      "[288]\tvalidation_0-auc:0.92399\tvalidation_1-auc:0.87458\n",
      "[289]\tvalidation_0-auc:0.92415\tvalidation_1-auc:0.87457\n",
      "[290]\tvalidation_0-auc:0.92434\tvalidation_1-auc:0.87475\n",
      "[291]\tvalidation_0-auc:0.92459\tvalidation_1-auc:0.87495\n",
      "[292]\tvalidation_0-auc:0.92472\tvalidation_1-auc:0.87506\n",
      "[293]\tvalidation_0-auc:0.92489\tvalidation_1-auc:0.87521\n",
      "[294]\tvalidation_0-auc:0.92505\tvalidation_1-auc:0.87532\n",
      "[295]\tvalidation_0-auc:0.92518\tvalidation_1-auc:0.87544\n"
     ]
    },
    {
     "name": "stdout",
     "output_type": "stream",
     "text": [
      "[296]\tvalidation_0-auc:0.92532\tvalidation_1-auc:0.87552\n",
      "[297]\tvalidation_0-auc:0.92549\tvalidation_1-auc:0.87558\n",
      "[298]\tvalidation_0-auc:0.92560\tvalidation_1-auc:0.87564\n",
      "[299]\tvalidation_0-auc:0.92576\tvalidation_1-auc:0.87574\n",
      "[300]\tvalidation_0-auc:0.92597\tvalidation_1-auc:0.87586\n",
      "[301]\tvalidation_0-auc:0.92609\tvalidation_1-auc:0.87598\n",
      "[302]\tvalidation_0-auc:0.92624\tvalidation_1-auc:0.87603\n",
      "[303]\tvalidation_0-auc:0.92639\tvalidation_1-auc:0.87616\n",
      "[304]\tvalidation_0-auc:0.92655\tvalidation_1-auc:0.87620\n",
      "[305]\tvalidation_0-auc:0.92670\tvalidation_1-auc:0.87629\n",
      "[306]\tvalidation_0-auc:0.92684\tvalidation_1-auc:0.87632\n",
      "[307]\tvalidation_0-auc:0.92698\tvalidation_1-auc:0.87639\n",
      "[308]\tvalidation_0-auc:0.92716\tvalidation_1-auc:0.87659\n",
      "[309]\tvalidation_0-auc:0.92723\tvalidation_1-auc:0.87661\n",
      "[310]\tvalidation_0-auc:0.92734\tvalidation_1-auc:0.87672\n",
      "[311]\tvalidation_0-auc:0.92751\tvalidation_1-auc:0.87687\n",
      "[312]\tvalidation_0-auc:0.92766\tvalidation_1-auc:0.87689\n",
      "[313]\tvalidation_0-auc:0.92775\tvalidation_1-auc:0.87696\n",
      "[314]\tvalidation_0-auc:0.92786\tvalidation_1-auc:0.87694\n",
      "[315]\tvalidation_0-auc:0.92805\tvalidation_1-auc:0.87703\n",
      "[316]\tvalidation_0-auc:0.92818\tvalidation_1-auc:0.87713\n",
      "[317]\tvalidation_0-auc:0.92840\tvalidation_1-auc:0.87723\n",
      "[318]\tvalidation_0-auc:0.92856\tvalidation_1-auc:0.87731\n",
      "[319]\tvalidation_0-auc:0.92871\tvalidation_1-auc:0.87737\n",
      "[320]\tvalidation_0-auc:0.92886\tvalidation_1-auc:0.87754\n",
      "[321]\tvalidation_0-auc:0.92901\tvalidation_1-auc:0.87760\n",
      "[322]\tvalidation_0-auc:0.92918\tvalidation_1-auc:0.87769\n",
      "[323]\tvalidation_0-auc:0.92930\tvalidation_1-auc:0.87783\n",
      "[324]\tvalidation_0-auc:0.92946\tvalidation_1-auc:0.87791\n",
      "[325]\tvalidation_0-auc:0.92955\tvalidation_1-auc:0.87786\n",
      "[326]\tvalidation_0-auc:0.92972\tvalidation_1-auc:0.87794\n",
      "[327]\tvalidation_0-auc:0.92987\tvalidation_1-auc:0.87799\n",
      "[328]\tvalidation_0-auc:0.93003\tvalidation_1-auc:0.87803\n",
      "[329]\tvalidation_0-auc:0.93017\tvalidation_1-auc:0.87806\n",
      "[330]\tvalidation_0-auc:0.93030\tvalidation_1-auc:0.87803\n",
      "[331]\tvalidation_0-auc:0.93047\tvalidation_1-auc:0.87813\n",
      "[332]\tvalidation_0-auc:0.93065\tvalidation_1-auc:0.87820\n",
      "[333]\tvalidation_0-auc:0.93078\tvalidation_1-auc:0.87823\n",
      "[334]\tvalidation_0-auc:0.93091\tvalidation_1-auc:0.87836\n",
      "[335]\tvalidation_0-auc:0.93108\tvalidation_1-auc:0.87849\n",
      "[336]\tvalidation_0-auc:0.93124\tvalidation_1-auc:0.87856\n",
      "[337]\tvalidation_0-auc:0.93143\tvalidation_1-auc:0.87872\n",
      "[338]\tvalidation_0-auc:0.93152\tvalidation_1-auc:0.87881\n",
      "[339]\tvalidation_0-auc:0.93169\tvalidation_1-auc:0.87890\n",
      "[340]\tvalidation_0-auc:0.93182\tvalidation_1-auc:0.87901\n",
      "[341]\tvalidation_0-auc:0.93192\tvalidation_1-auc:0.87910\n",
      "[342]\tvalidation_0-auc:0.93204\tvalidation_1-auc:0.87917\n",
      "[343]\tvalidation_0-auc:0.93221\tvalidation_1-auc:0.87930\n",
      "[344]\tvalidation_0-auc:0.93236\tvalidation_1-auc:0.87936\n",
      "[345]\tvalidation_0-auc:0.93252\tvalidation_1-auc:0.87947\n",
      "[346]\tvalidation_0-auc:0.93268\tvalidation_1-auc:0.87960\n",
      "[347]\tvalidation_0-auc:0.93282\tvalidation_1-auc:0.87969\n",
      "[348]\tvalidation_0-auc:0.93298\tvalidation_1-auc:0.87986\n",
      "[349]\tvalidation_0-auc:0.93310\tvalidation_1-auc:0.87990\n",
      "[350]\tvalidation_0-auc:0.93326\tvalidation_1-auc:0.88010\n",
      "[351]\tvalidation_0-auc:0.93335\tvalidation_1-auc:0.88019\n",
      "[352]\tvalidation_0-auc:0.93343\tvalidation_1-auc:0.88028\n",
      "[353]\tvalidation_0-auc:0.93358\tvalidation_1-auc:0.88032\n",
      "[354]\tvalidation_0-auc:0.93372\tvalidation_1-auc:0.88050\n",
      "[355]\tvalidation_0-auc:0.93384\tvalidation_1-auc:0.88059\n",
      "[356]\tvalidation_0-auc:0.93396\tvalidation_1-auc:0.88066\n",
      "[357]\tvalidation_0-auc:0.93408\tvalidation_1-auc:0.88076\n",
      "[358]\tvalidation_0-auc:0.93425\tvalidation_1-auc:0.88092\n",
      "[359]\tvalidation_0-auc:0.93439\tvalidation_1-auc:0.88106\n",
      "[360]\tvalidation_0-auc:0.93452\tvalidation_1-auc:0.88114\n",
      "[361]\tvalidation_0-auc:0.93468\tvalidation_1-auc:0.88132\n",
      "[362]\tvalidation_0-auc:0.93474\tvalidation_1-auc:0.88132\n",
      "[363]\tvalidation_0-auc:0.93491\tvalidation_1-auc:0.88137\n",
      "[364]\tvalidation_0-auc:0.93508\tvalidation_1-auc:0.88150\n",
      "[365]\tvalidation_0-auc:0.93518\tvalidation_1-auc:0.88159\n",
      "[366]\tvalidation_0-auc:0.93527\tvalidation_1-auc:0.88167\n",
      "[367]\tvalidation_0-auc:0.93538\tvalidation_1-auc:0.88169\n",
      "[368]\tvalidation_0-auc:0.93549\tvalidation_1-auc:0.88171\n",
      "[369]\tvalidation_0-auc:0.93559\tvalidation_1-auc:0.88179\n",
      "[370]\tvalidation_0-auc:0.93572\tvalidation_1-auc:0.88185\n",
      "[371]\tvalidation_0-auc:0.93583\tvalidation_1-auc:0.88191\n",
      "[372]\tvalidation_0-auc:0.93597\tvalidation_1-auc:0.88197\n",
      "[373]\tvalidation_0-auc:0.93607\tvalidation_1-auc:0.88201\n",
      "[374]\tvalidation_0-auc:0.93621\tvalidation_1-auc:0.88206\n",
      "[375]\tvalidation_0-auc:0.93638\tvalidation_1-auc:0.88204\n",
      "[376]\tvalidation_0-auc:0.93648\tvalidation_1-auc:0.88211\n",
      "[377]\tvalidation_0-auc:0.93658\tvalidation_1-auc:0.88214\n",
      "[378]\tvalidation_0-auc:0.93665\tvalidation_1-auc:0.88220\n",
      "[379]\tvalidation_0-auc:0.93674\tvalidation_1-auc:0.88227\n",
      "[380]\tvalidation_0-auc:0.93686\tvalidation_1-auc:0.88232\n",
      "[381]\tvalidation_0-auc:0.93701\tvalidation_1-auc:0.88238\n",
      "[382]\tvalidation_0-auc:0.93714\tvalidation_1-auc:0.88244\n",
      "[383]\tvalidation_0-auc:0.93728\tvalidation_1-auc:0.88245\n",
      "[384]\tvalidation_0-auc:0.93737\tvalidation_1-auc:0.88244\n",
      "[385]\tvalidation_0-auc:0.93742\tvalidation_1-auc:0.88244\n",
      "[386]\tvalidation_0-auc:0.93757\tvalidation_1-auc:0.88254\n",
      "[387]\tvalidation_0-auc:0.93770\tvalidation_1-auc:0.88255\n",
      "[388]\tvalidation_0-auc:0.93783\tvalidation_1-auc:0.88259\n",
      "[389]\tvalidation_0-auc:0.93795\tvalidation_1-auc:0.88264\n",
      "[390]\tvalidation_0-auc:0.93805\tvalidation_1-auc:0.88266\n",
      "[391]\tvalidation_0-auc:0.93816\tvalidation_1-auc:0.88274\n",
      "[392]\tvalidation_0-auc:0.93824\tvalidation_1-auc:0.88275\n",
      "[393]\tvalidation_0-auc:0.93838\tvalidation_1-auc:0.88289\n",
      "[394]\tvalidation_0-auc:0.93848\tvalidation_1-auc:0.88298\n",
      "[395]\tvalidation_0-auc:0.93859\tvalidation_1-auc:0.88309\n",
      "[396]\tvalidation_0-auc:0.93869\tvalidation_1-auc:0.88305\n",
      "[397]\tvalidation_0-auc:0.93878\tvalidation_1-auc:0.88306\n",
      "[398]\tvalidation_0-auc:0.93882\tvalidation_1-auc:0.88306\n",
      "[399]\tvalidation_0-auc:0.93893\tvalidation_1-auc:0.88316\n",
      "[400]\tvalidation_0-auc:0.93903\tvalidation_1-auc:0.88329\n",
      "[401]\tvalidation_0-auc:0.93909\tvalidation_1-auc:0.88331\n",
      "[402]\tvalidation_0-auc:0.93921\tvalidation_1-auc:0.88338\n",
      "[403]\tvalidation_0-auc:0.93930\tvalidation_1-auc:0.88347\n",
      "[404]\tvalidation_0-auc:0.93939\tvalidation_1-auc:0.88352\n",
      "[405]\tvalidation_0-auc:0.93953\tvalidation_1-auc:0.88356\n",
      "[406]\tvalidation_0-auc:0.93955\tvalidation_1-auc:0.88356\n",
      "[407]\tvalidation_0-auc:0.93964\tvalidation_1-auc:0.88365\n",
      "[408]\tvalidation_0-auc:0.93972\tvalidation_1-auc:0.88372\n",
      "[409]\tvalidation_0-auc:0.93982\tvalidation_1-auc:0.88381\n",
      "[410]\tvalidation_0-auc:0.93992\tvalidation_1-auc:0.88383\n",
      "[411]\tvalidation_0-auc:0.94000\tvalidation_1-auc:0.88390\n",
      "[412]\tvalidation_0-auc:0.94009\tvalidation_1-auc:0.88400\n",
      "[413]\tvalidation_0-auc:0.94017\tvalidation_1-auc:0.88407\n",
      "[414]\tvalidation_0-auc:0.94027\tvalidation_1-auc:0.88418\n",
      "[415]\tvalidation_0-auc:0.94034\tvalidation_1-auc:0.88417\n",
      "[416]\tvalidation_0-auc:0.94047\tvalidation_1-auc:0.88422\n",
      "[417]\tvalidation_0-auc:0.94057\tvalidation_1-auc:0.88431\n",
      "[418]\tvalidation_0-auc:0.94067\tvalidation_1-auc:0.88431\n",
      "[419]\tvalidation_0-auc:0.94073\tvalidation_1-auc:0.88436\n",
      "[420]\tvalidation_0-auc:0.94084\tvalidation_1-auc:0.88449\n",
      "[421]\tvalidation_0-auc:0.94099\tvalidation_1-auc:0.88451\n",
      "[422]\tvalidation_0-auc:0.94107\tvalidation_1-auc:0.88451\n",
      "[423]\tvalidation_0-auc:0.94118\tvalidation_1-auc:0.88456\n",
      "[424]\tvalidation_0-auc:0.94131\tvalidation_1-auc:0.88470\n",
      "[425]\tvalidation_0-auc:0.94140\tvalidation_1-auc:0.88475\n",
      "[426]\tvalidation_0-auc:0.94147\tvalidation_1-auc:0.88476\n",
      "[427]\tvalidation_0-auc:0.94156\tvalidation_1-auc:0.88478\n",
      "[428]\tvalidation_0-auc:0.94165\tvalidation_1-auc:0.88477\n",
      "[429]\tvalidation_0-auc:0.94171\tvalidation_1-auc:0.88478\n",
      "[430]\tvalidation_0-auc:0.94185\tvalidation_1-auc:0.88486\n",
      "[431]\tvalidation_0-auc:0.94198\tvalidation_1-auc:0.88492\n",
      "[432]\tvalidation_0-auc:0.94209\tvalidation_1-auc:0.88492\n",
      "[433]\tvalidation_0-auc:0.94217\tvalidation_1-auc:0.88495\n",
      "[434]\tvalidation_0-auc:0.94231\tvalidation_1-auc:0.88502\n",
      "[435]\tvalidation_0-auc:0.94240\tvalidation_1-auc:0.88508\n",
      "[436]\tvalidation_0-auc:0.94252\tvalidation_1-auc:0.88509\n",
      "[437]\tvalidation_0-auc:0.94264\tvalidation_1-auc:0.88517\n",
      "[438]\tvalidation_0-auc:0.94273\tvalidation_1-auc:0.88515\n",
      "[439]\tvalidation_0-auc:0.94286\tvalidation_1-auc:0.88525\n",
      "[440]\tvalidation_0-auc:0.94296\tvalidation_1-auc:0.88531\n",
      "[441]\tvalidation_0-auc:0.94304\tvalidation_1-auc:0.88532\n",
      "[442]\tvalidation_0-auc:0.94310\tvalidation_1-auc:0.88541\n"
     ]
    },
    {
     "name": "stdout",
     "output_type": "stream",
     "text": [
      "[443]\tvalidation_0-auc:0.94323\tvalidation_1-auc:0.88547\n",
      "[444]\tvalidation_0-auc:0.94329\tvalidation_1-auc:0.88548\n",
      "[445]\tvalidation_0-auc:0.94336\tvalidation_1-auc:0.88552\n",
      "[446]\tvalidation_0-auc:0.94341\tvalidation_1-auc:0.88550\n",
      "[447]\tvalidation_0-auc:0.94349\tvalidation_1-auc:0.88550\n",
      "[448]\tvalidation_0-auc:0.94354\tvalidation_1-auc:0.88556\n",
      "[449]\tvalidation_0-auc:0.94356\tvalidation_1-auc:0.88558\n",
      "[450]\tvalidation_0-auc:0.94363\tvalidation_1-auc:0.88559\n",
      "[451]\tvalidation_0-auc:0.94375\tvalidation_1-auc:0.88562\n",
      "[452]\tvalidation_0-auc:0.94384\tvalidation_1-auc:0.88557\n",
      "[453]\tvalidation_0-auc:0.94392\tvalidation_1-auc:0.88559\n",
      "[454]\tvalidation_0-auc:0.94400\tvalidation_1-auc:0.88561\n",
      "[455]\tvalidation_0-auc:0.94409\tvalidation_1-auc:0.88571\n",
      "[456]\tvalidation_0-auc:0.94420\tvalidation_1-auc:0.88573\n",
      "[457]\tvalidation_0-auc:0.94432\tvalidation_1-auc:0.88568\n",
      "[458]\tvalidation_0-auc:0.94439\tvalidation_1-auc:0.88576\n",
      "[459]\tvalidation_0-auc:0.94448\tvalidation_1-auc:0.88581\n",
      "[460]\tvalidation_0-auc:0.94454\tvalidation_1-auc:0.88578\n",
      "[461]\tvalidation_0-auc:0.94464\tvalidation_1-auc:0.88584\n",
      "[462]\tvalidation_0-auc:0.94470\tvalidation_1-auc:0.88584\n",
      "[463]\tvalidation_0-auc:0.94477\tvalidation_1-auc:0.88594\n",
      "[464]\tvalidation_0-auc:0.94485\tvalidation_1-auc:0.88601\n",
      "[465]\tvalidation_0-auc:0.94488\tvalidation_1-auc:0.88604\n",
      "[466]\tvalidation_0-auc:0.94500\tvalidation_1-auc:0.88609\n",
      "[467]\tvalidation_0-auc:0.94506\tvalidation_1-auc:0.88611\n",
      "[468]\tvalidation_0-auc:0.94517\tvalidation_1-auc:0.88623\n",
      "[469]\tvalidation_0-auc:0.94526\tvalidation_1-auc:0.88631\n",
      "[470]\tvalidation_0-auc:0.94533\tvalidation_1-auc:0.88637\n",
      "[471]\tvalidation_0-auc:0.94543\tvalidation_1-auc:0.88647\n",
      "[472]\tvalidation_0-auc:0.94552\tvalidation_1-auc:0.88643\n",
      "[473]\tvalidation_0-auc:0.94560\tvalidation_1-auc:0.88648\n",
      "[474]\tvalidation_0-auc:0.94563\tvalidation_1-auc:0.88649\n",
      "[475]\tvalidation_0-auc:0.94573\tvalidation_1-auc:0.88649\n",
      "[476]\tvalidation_0-auc:0.94584\tvalidation_1-auc:0.88647\n",
      "[477]\tvalidation_0-auc:0.94597\tvalidation_1-auc:0.88660\n",
      "[478]\tvalidation_0-auc:0.94606\tvalidation_1-auc:0.88668\n",
      "[479]\tvalidation_0-auc:0.94613\tvalidation_1-auc:0.88675\n",
      "[480]\tvalidation_0-auc:0.94621\tvalidation_1-auc:0.88686\n",
      "[481]\tvalidation_0-auc:0.94629\tvalidation_1-auc:0.88693\n",
      "[482]\tvalidation_0-auc:0.94639\tvalidation_1-auc:0.88700\n",
      "[483]\tvalidation_0-auc:0.94646\tvalidation_1-auc:0.88705\n",
      "[484]\tvalidation_0-auc:0.94650\tvalidation_1-auc:0.88711\n",
      "[485]\tvalidation_0-auc:0.94658\tvalidation_1-auc:0.88711\n",
      "[486]\tvalidation_0-auc:0.94665\tvalidation_1-auc:0.88714\n",
      "[487]\tvalidation_0-auc:0.94676\tvalidation_1-auc:0.88721\n",
      "[488]\tvalidation_0-auc:0.94687\tvalidation_1-auc:0.88729\n",
      "[489]\tvalidation_0-auc:0.94693\tvalidation_1-auc:0.88732\n",
      "[490]\tvalidation_0-auc:0.94699\tvalidation_1-auc:0.88738\n",
      "[491]\tvalidation_0-auc:0.94706\tvalidation_1-auc:0.88745\n",
      "[492]\tvalidation_0-auc:0.94714\tvalidation_1-auc:0.88749\n",
      "[493]\tvalidation_0-auc:0.94721\tvalidation_1-auc:0.88755\n",
      "[494]\tvalidation_0-auc:0.94729\tvalidation_1-auc:0.88756\n",
      "[495]\tvalidation_0-auc:0.94735\tvalidation_1-auc:0.88760\n",
      "[496]\tvalidation_0-auc:0.94745\tvalidation_1-auc:0.88761\n",
      "[497]\tvalidation_0-auc:0.94754\tvalidation_1-auc:0.88766\n",
      "[498]\tvalidation_0-auc:0.94758\tvalidation_1-auc:0.88773\n",
      "[499]\tvalidation_0-auc:0.94767\tvalidation_1-auc:0.88779\n"
     ]
    },
    {
     "data": {
      "text/plain": [
       "XGBClassifier(base_score=None, booster=None, callbacks=None,\n",
       "              colsample_bylevel=None, colsample_bynode=None,\n",
       "              colsample_bytree=0.25, early_stopping_rounds=None,\n",
       "              enable_categorical=False, eval_metric='auc', feature_types=None,\n",
       "              gamma=None, gpu_id=None, grow_policy=None, importance_type=None,\n",
       "              interaction_constraints=None, learning_rate=0.05, max_bin=None,\n",
       "              max_cat_threshold=None, max_cat_to_onehot=None,\n",
       "              max_delta_step=None, max_depth=5, max_leaves=None,\n",
       "              min_child_weight=None, missing=nan, monotone_constraints=None,\n",
       "              n_estimators=500, n_jobs=None, num_parallel_tree=None,\n",
       "              predictor=None, random_state=None, ...)"
      ]
     },
     "execution_count": 14,
     "metadata": {},
     "output_type": "execute_result"
    }
   ],
   "source": [
    "model_xgboost_fin=xgboost.XGBClassifier(learning_rate=0.05,\n",
    "                                       max_depth=5,\n",
    "                                       n_estimators=500,\n",
    "                                       subsample=0.5,\n",
    "                                       colsample_bytree=0.25,\n",
    "                                       eval_metric='auc',\n",
    "                                       verbosity=1,\n",
    "                                       use_label_encoder=False)\n",
    "\n",
    "eval_set=[(X_train,y_train),(X_val,y_val)]\n",
    "\n",
    "model_xgboost_fin.fit(X_train,y_train,\n",
    "                     early_stopping_rounds=20,\n",
    "                     eval_set=eval_set,\n",
    "                     verbose=True)"
   ]
  },
  {
   "cell_type": "code",
   "execution_count": 15,
   "id": "dce0919d",
   "metadata": {},
   "outputs": [
    {
     "name": "stdout",
     "output_type": "stream",
     "text": [
      "AUC Train :0.9477\n",
      "AUC Valid: 0.8878\n"
     ]
    }
   ],
   "source": [
    "y_train_pred=model_xgboost_fin.predict_proba(X_train)[:,1]\n",
    "y_valid_pred=model_xgboost_fin.predict_proba(X_val)[:,1]\n",
    "\n",
    "print('AUC Train :{:.4f}\\nAUC Valid: {:.4f}'.format(roc_auc_score(y_train,y_train_pred),\n",
    "                                                   roc_auc_score(y_val,y_valid_pred)))"
   ]
  },
  {
   "cell_type": "code",
   "execution_count": 16,
   "id": "f3252ba2",
   "metadata": {},
   "outputs": [
    {
     "data": {
      "image/png": "[encoded data removed]",
      "text/plain": [
       "<Figure size 1500x500 with 1 Axes>"
      ]
     },
     "metadata": {},
     "output_type": "display_data"
    }
   ],
   "source": [
    "import matplotlib.pyplot as plt\n",
    "evaluation_result=model_xgboost_fin.evals_result()\n",
    "\n",
    "train_auc_tree=evaluation_result['validation_0']['auc']\n",
    "valid_auc_tree=evaluation_result['validation_1']['auc']\n",
    "\n",
    "plt.figure(figsize=(15,5))\n",
    "\n",
    "plt.plot(train_auc_tree,label='train')\n",
    "plt.plot(valid_auc_tree,label='valid')\n",
    "\n",
    "plt.title('Train and Validation AUC as number of tree increases')\n",
    "plt.xlabel('Trees')\n",
    "plt.ylabel('AUC')\n",
    "plt.show()\n"
   ]
  },
  {
   "cell_type": "code",
   "execution_count": 17,
   "id": "a961d28d",
   "metadata": {},
   "outputs": [
    {
     "data": {
      "text/html": [
       "<div>\n",
       "<style scoped>\n",
       "    .dataframe tbody tr th:only-of-type {\n",
       "        vertical-align: middle;\n",
       "    }\n",
       "\n",
       "    .dataframe tbody tr th {\n",
       "        vertical-align: top;\n",
       "    }\n",
       "\n",
       "    .dataframe thead th {\n",
       "        text-align: right;\n",
       "    }\n",
       "</style>\n",
       "<table border=\"1\" class=\"dataframe\">\n",
       "  <thead>\n",
       "    <tr style=\"text-align: right;\">\n",
       "      <th></th>\n",
       "      <th>Variable</th>\n",
       "      <th>Importance</th>\n",
       "    </tr>\n",
       "  </thead>\n",
       "  <tbody>\n",
       "    <tr>\n",
       "      <th>81</th>\n",
       "      <td>var_81</td>\n",
       "      <td>0.018622</td>\n",
       "    </tr>\n",
       "    <tr>\n",
       "      <th>139</th>\n",
       "      <td>var_139</td>\n",
       "      <td>0.014908</td>\n",
       "    </tr>\n",
       "    <tr>\n",
       "      <th>12</th>\n",
       "      <td>var_12</td>\n",
       "      <td>0.013342</td>\n",
       "    </tr>\n",
       "    <tr>\n",
       "      <th>26</th>\n",
       "      <td>var_26</td>\n",
       "      <td>0.012270</td>\n",
       "    </tr>\n",
       "    <tr>\n",
       "      <th>110</th>\n",
       "      <td>var_110</td>\n",
       "      <td>0.011367</td>\n",
       "    </tr>\n",
       "    <tr>\n",
       "      <th>53</th>\n",
       "      <td>var_53</td>\n",
       "      <td>0.011223</td>\n",
       "    </tr>\n",
       "    <tr>\n",
       "      <th>6</th>\n",
       "      <td>var_6</td>\n",
       "      <td>0.010834</td>\n",
       "    </tr>\n",
       "    <tr>\n",
       "      <th>146</th>\n",
       "      <td>var_146</td>\n",
       "      <td>0.010753</td>\n",
       "    </tr>\n",
       "    <tr>\n",
       "      <th>22</th>\n",
       "      <td>var_22</td>\n",
       "      <td>0.010698</td>\n",
       "    </tr>\n",
       "    <tr>\n",
       "      <th>109</th>\n",
       "      <td>var_109</td>\n",
       "      <td>0.009804</td>\n",
       "    </tr>\n",
       "  </tbody>\n",
       "</table>\n",
       "</div>"
      ],
      "text/plain": [
       "    Variable  Importance\n",
       "81    var_81    0.018622\n",
       "139  var_139    0.014908\n",
       "12    var_12    0.013342\n",
       "26    var_26    0.012270\n",
       "110  var_110    0.011367\n",
       "53    var_53    0.011223\n",
       "6      var_6    0.010834\n",
       "146  var_146    0.010753\n",
       "22    var_22    0.010698\n",
       "109  var_109    0.009804"
      ]
     },
     "execution_count": 17,
     "metadata": {},
     "output_type": "execute_result"
    }
   ],
   "source": [
    "df_var_imp=pd.DataFrame({'Variable': var_col,'Importance':model_xgboost_fin.feature_importances_}).sort_values(by='Importance',ascending=False)\n",
    "\n",
    "df_var_imp[:10]"
   ]
  },
  {
   "cell_type": "code",
   "execution_count": 18,
   "id": "1d12a126",
   "metadata": {},
   "outputs": [
    {
     "data": {
      "text/plain": [
       "((200000, 201), (200000, 2))"
      ]
     },
     "execution_count": 18,
     "metadata": {},
     "output_type": "execute_result"
    }
   ],
   "source": [
    "df_test=pd.read_csv('C:/Users/HP/Documents/backups/boost/test.csv')\n",
    "\n",
    "df_sample_submission=pd.read_csv(\"C:/Users/HP/Documents/backups/boost/sample_submission.csv\")\n",
    "\n",
    "df_test.shape,df_sample_submission.shape"
   ]
  },
  {
   "cell_type": "code",
   "execution_count": 19,
   "id": "c7ec58e9",
   "metadata": {},
   "outputs": [],
   "source": [
    "X_test=df_test.loc[:, var_col]\n",
    "\n",
    "df_sample_submission['target']=model_xgboost_fin.predict_proba(X_test)[:,1]"
   ]
  },
  {
   "cell_type": "code",
   "execution_count": 20,
   "id": "ca523cac",
   "metadata": {},
   "outputs": [
    {
     "data": {
      "text/html": [
       "<div>\n",
       "<style scoped>\n",
       "    .dataframe tbody tr th:only-of-type {\n",
       "        vertical-align: middle;\n",
       "    }\n",
       "\n",
       "    .dataframe tbody tr th {\n",
       "        vertical-align: top;\n",
       "    }\n",
       "\n",
       "    .dataframe thead th {\n",
       "        text-align: right;\n",
       "    }\n",
       "</style>\n",
       "<table border=\"1\" class=\"dataframe\">\n",
       "  <thead>\n",
       "    <tr style=\"text-align: right;\">\n",
       "      <th></th>\n",
       "      <th>ID_code</th>\n",
       "      <th>target</th>\n",
       "    </tr>\n",
       "  </thead>\n",
       "  <tbody>\n",
       "    <tr>\n",
       "      <th>0</th>\n",
       "      <td>test_0</td>\n",
       "      <td>0.087890</td>\n",
       "    </tr>\n",
       "    <tr>\n",
       "      <th>1</th>\n",
       "      <td>test_1</td>\n",
       "      <td>0.246366</td>\n",
       "    </tr>\n",
       "    <tr>\n",
       "      <th>2</th>\n",
       "      <td>test_2</td>\n",
       "      <td>0.129955</td>\n",
       "    </tr>\n",
       "    <tr>\n",
       "      <th>3</th>\n",
       "      <td>test_3</td>\n",
       "      <td>0.115954</td>\n",
       "    </tr>\n",
       "    <tr>\n",
       "      <th>4</th>\n",
       "      <td>test_4</td>\n",
       "      <td>0.065017</td>\n",
       "    </tr>\n",
       "    <tr>\n",
       "      <th>...</th>\n",
       "      <td>...</td>\n",
       "      <td>...</td>\n",
       "    </tr>\n",
       "    <tr>\n",
       "      <th>199995</th>\n",
       "      <td>test_199995</td>\n",
       "      <td>0.063442</td>\n",
       "    </tr>\n",
       "    <tr>\n",
       "      <th>199996</th>\n",
       "      <td>test_199996</td>\n",
       "      <td>0.015608</td>\n",
       "    </tr>\n",
       "    <tr>\n",
       "      <th>199997</th>\n",
       "      <td>test_199997</td>\n",
       "      <td>0.012154</td>\n",
       "    </tr>\n",
       "    <tr>\n",
       "      <th>199998</th>\n",
       "      <td>test_199998</td>\n",
       "      <td>0.079786</td>\n",
       "    </tr>\n",
       "    <tr>\n",
       "      <th>199999</th>\n",
       "      <td>test_199999</td>\n",
       "      <td>0.098696</td>\n",
       "    </tr>\n",
       "  </tbody>\n",
       "</table>\n",
       "<p>200000 rows × 2 columns</p>\n",
       "</div>"
      ],
      "text/plain": [
       "            ID_code    target\n",
       "0            test_0  0.087890\n",
       "1            test_1  0.246366\n",
       "2            test_2  0.129955\n",
       "3            test_3  0.115954\n",
       "4            test_4  0.065017\n",
       "...             ...       ...\n",
       "199995  test_199995  0.063442\n",
       "199996  test_199996  0.015608\n",
       "199997  test_199997  0.012154\n",
       "199998  test_199998  0.079786\n",
       "199999  test_199999  0.098696\n",
       "\n",
       "[200000 rows x 2 columns]"
      ]
     },
     "execution_count": 20,
     "metadata": {},
     "output_type": "execute_result"
    }
   ],
   "source": [
    "df_sample_submission"
   ]
  },
  {
   "cell_type": "code",
   "execution_count": null,
   "id": "4b4a6c2c",
   "metadata": {},
   "outputs": [],
   "source": []
  },
  {
   "cell_type": "code",
   "execution_count": null,
   "id": "9262d8c7",
   "metadata": {},
   "outputs": [],
   "source": []
  },
  {
   "cell_type": "code",
   "execution_count": null,
   "id": "48bc1c18",
   "metadata": {},
   "outputs": [],
   "source": []
  }
 ],
 "metadata": {
  "kernelspec": {
   "display_name": "Python 3 (ipykernel)",
   "language": "python",
   "name": "python3"
  },
  "language_info": {
   "codemirror_mode": {
    "name": "ipython",
    "version": 3
   },
   "file_extension": ".py",
   "mimetype": "text/x-python",
   "name": "python",
   "nbconvert_exporter": "python",
   "pygments_lexer": "ipython3",
   "version": "3.9.13"
  }
 },
 "nbformat": 4,
 "nbformat_minor": 5
}
